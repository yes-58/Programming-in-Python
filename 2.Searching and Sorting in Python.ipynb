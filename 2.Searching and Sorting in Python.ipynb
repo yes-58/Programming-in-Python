{
 "cells": [
  {
   "cell_type": "markdown",
   "metadata": {},
   "source": [
    "### Binary Search in Python\n"
   ]
  },
  {
   "cell_type": "code",
   "execution_count": 3,
   "metadata": {},
   "outputs": [
    {
     "name": "stdout",
     "output_type": "stream",
     "text": [
      "5\n",
      "1 2 3 4 5\n",
      "4\n",
      "3\n"
     ]
    }
   ],
   "source": [
    "def Binary_search(li,key):\n",
    "    start=0\n",
    "    end=len(li)-1\n",
    "    while(start<=end):\n",
    "        mid=(start+end)//2\n",
    "        if(li[mid]==key):\n",
    "            return mid\n",
    "        elif(li[mid]<key):\n",
    "            start=mid+1\n",
    "        else:\n",
    "            end=mid-1\n",
    "    return -1\n",
    "\n",
    "n=int(input())\n",
    "li=[int(x) for x in input().split()]\n",
    "key=int(input())\n",
    "index=Binary_search(li,key)\n",
    "print(index)"
   ]
  },
  {
   "cell_type": "markdown",
   "metadata": {},
   "source": [
    "### Selection Sort in Python"
   ]
  },
  {
   "cell_type": "code",
   "execution_count": 5,
   "metadata": {},
   "outputs": [
    {
     "name": "stdout",
     "output_type": "stream",
     "text": [
      "5\n",
      "5 4 3 2 1\n",
      "[1, 2, 3, 4, 5]\n"
     ]
    }
   ],
   "source": [
    "def Selection_sort(li,n):\n",
    "    for i in range(n-1):\n",
    "        min_index=i\n",
    "        for j in range(i+1,n):\n",
    "            if(li[min_index]>li[j]):\n",
    "                min_index=j;\n",
    "        li[i],li[min_index]=li[min_index],li[i]\n",
    "\n",
    "n=int(input())\n",
    "li=[int(x) for x in input().split()]\n",
    "Selection_sort(li,n)\n",
    "print(li)"
   ]
  },
  {
   "cell_type": "markdown",
   "metadata": {},
   "source": [
    "### Bubble Sort "
   ]
  },
  {
   "cell_type": "markdown",
   "metadata": {},
   "source": [
    "### Insertion Sort"
   ]
  },
  {
   "cell_type": "markdown",
   "metadata": {},
   "source": [
    "### Merge Two Sorted Array "
   ]
  },
  {
   "cell_type": "code",
   "execution_count": 9,
   "metadata": {},
   "outputs": [
    {
     "name": "stdout",
     "output_type": "stream",
     "text": [
      "5\n",
      "1 3 5 7 9\n",
      "5 \n",
      "2 4 5 6 8\n",
      "[1, 2, 3, 4, 5, 5, 6, 7, 8, 9]\n"
     ]
    }
   ],
   "source": [
    "def merge_two_sorted_arrays(l1,l2,l):\n",
    "    s1=0\n",
    "    s2=0\n",
    "    while(s1<len(l1) and s2<len(l2)):\n",
    "        if(l1[s1]<l2[s2]):\n",
    "            l.append(l1[s1])\n",
    "            s1=s1+1\n",
    "        elif(l1[s1]==l2[s2]):\n",
    "            l.append(l1[s1])\n",
    "            l.append(l2[s2])\n",
    "            s1=s1+1\n",
    "            s2=s2+1\n",
    "        else:\n",
    "            l.append(l2[s2])\n",
    "            s2=s2+1\n",
    "    while(s1<len(l1)):\n",
    "        l.append(l1[s1])\n",
    "        s1=s1+1\n",
    "    while(s2<len(l2)):\n",
    "        l.append(l2[s2])\n",
    "        s2=s2+1\n",
    "\n",
    "\n",
    "n=int(input())\n",
    "l1=[int(x) for x in input().split()]\n",
    "m=int(input())\n",
    "l2=[int(x) for x in input().split()]\n",
    "l=[]\n",
    "merge_two_sorted_arrays(l1,l2,l)\n",
    "print(l)"
   ]
  },
  {
   "cell_type": "code",
   "execution_count": null,
   "metadata": {},
   "outputs": [],
   "source": []
  },
  {
   "cell_type": "code",
   "execution_count": null,
   "metadata": {},
   "outputs": [],
   "source": []
  },
  {
   "cell_type": "code",
   "execution_count": null,
   "metadata": {},
   "outputs": [],
   "source": []
  },
  {
   "cell_type": "code",
   "execution_count": null,
   "metadata": {},
   "outputs": [],
   "source": []
  },
  {
   "cell_type": "code",
   "execution_count": null,
   "metadata": {},
   "outputs": [],
   "source": []
  },
  {
   "cell_type": "code",
   "execution_count": null,
   "metadata": {},
   "outputs": [],
   "source": []
  },
  {
   "cell_type": "code",
   "execution_count": null,
   "metadata": {},
   "outputs": [],
   "source": []
  },
  {
   "cell_type": "markdown",
   "metadata": {},
   "source": [
    " "
   ]
  }
 ],
 "metadata": {
  "kernelspec": {
   "display_name": "Python 3",
   "language": "python",
   "name": "python3"
  },
  "language_info": {
   "codemirror_mode": {
    "name": "ipython",
    "version": 3
   },
   "file_extension": ".py",
   "mimetype": "text/x-python",
   "name": "python",
   "nbconvert_exporter": "python",
   "pygments_lexer": "ipython3",
   "version": "3.6.7"
  }
 },
 "nbformat": 4,
 "nbformat_minor": 4
}
