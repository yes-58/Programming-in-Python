{
 "cells": [
  {
   "cell_type": "markdown",
   "metadata": {},
   "source": [
    "### Abstract Class"
   ]
  },
  {
   "cell_type": "markdown",
   "metadata": {},
   "source": [
    "* Abstract Classes: contains abstract methods\n",
    "* Abstract methods are those which are only declared but they've no implementation\n",
    "\n",
    "* All methods need to be implemented (mandatory) in child class\n",
    "\n",
    "Module -- abc\n",
    "\n",
    "       |\n",
    "       |\n",
    "       |---> ABC             (Class)\n",
    "       |\n",
    "       |---> Abstract method (as a functionality and used as a decorator)\n",
    "\n",
    "* You cannot create objects of an abstract class (evne there is only one abstract method)"
   ]
  },
  {
   "cell_type": "code",
   "execution_count": 1,
   "metadata": {},
   "outputs": [
    {
     "name": "stdout",
     "output_type": "stream",
     "text": [
      "Automobile Created\n"
     ]
    }
   ],
   "source": [
    "from abc import ABC, abstractmethod\n",
    "\n",
    "class Automobile(ABC):\n",
    "    \n",
    "    def __init__(self):\n",
    "        print(\"Automobile Created\")\n",
    "        \n",
    "    def start(self):\n",
    "        pass\n",
    "    \n",
    "    def start(self):\n",
    "        pass\n",
    "    \n",
    "    def start(self):\n",
    "        pass\n",
    "    \n",
    "c = Automobile()"
   ]
  },
  {
   "cell_type": "code",
   "execution_count": 2,
   "metadata": {},
   "outputs": [
    {
     "ename": "TypeError",
     "evalue": "Can't instantiate abstract class Automobile with abstract methods start",
     "output_type": "error",
     "traceback": [
      "\u001b[1;31m----------------------------------------\u001b[0m",
      "\u001b[1;31mTypeError\u001b[0mTraceback (most recent call last)",
      "\u001b[1;32m<ipython-input-2-ffc6fd90692f>\u001b[0m in \u001b[0;36m<module>\u001b[1;34m\u001b[0m\n\u001b[0;32m     18\u001b[0m         \u001b[1;32mpass\u001b[0m\u001b[1;33m\u001b[0m\u001b[1;33m\u001b[0m\u001b[0m\n\u001b[0;32m     19\u001b[0m \u001b[1;33m\u001b[0m\u001b[0m\n\u001b[1;32m---> 20\u001b[1;33m \u001b[0mc\u001b[0m \u001b[1;33m=\u001b[0m \u001b[0mAutomobile\u001b[0m\u001b[1;33m(\u001b[0m\u001b[1;33m)\u001b[0m\u001b[1;33m\u001b[0m\u001b[1;33m\u001b[0m\u001b[0m\n\u001b[0m",
      "\u001b[1;31mTypeError\u001b[0m: Can't instantiate abstract class Automobile with abstract methods start"
     ]
    }
   ],
   "source": [
    "from abc import ABC, abstractmethod\n",
    "\n",
    "class Automobile(ABC):\n",
    "    \n",
    "    def __init__(self):\n",
    "        print(\"Automobile Created\")\n",
    "    \n",
    "    @abstractmethod   \n",
    "    def start(self):\n",
    "        pass\n",
    "    \n",
    "    @abstractmethod   \n",
    "    def start(self):\n",
    "        pass\n",
    "    \n",
    "    @abstractmethod   \n",
    "    def start(self):\n",
    "        pass\n",
    "    \n",
    "c = Automobile()"
   ]
  },
  {
   "cell_type": "code",
   "execution_count": 3,
   "metadata": {},
   "outputs": [
    {
     "name": "stdout",
     "output_type": "stream",
     "text": [
      "Car created\n",
      "Bus Created\n"
     ]
    }
   ],
   "source": [
    "from abc import ABC, abstractmethod\n",
    "\n",
    "class Automobile(ABC):\n",
    "    \n",
    "    def __init__(self):\n",
    "        print(\"Automobile Created\")\n",
    "    \n",
    "    @abstractmethod   \n",
    "    def start(self):\n",
    "        pass\n",
    "    \n",
    "    @abstractmethod   \n",
    "    def start(self):\n",
    "        pass\n",
    "    \n",
    "    @abstractmethod   \n",
    "    def start(self):\n",
    "        pass\n",
    "    \n",
    "class Car(Automobile):\n",
    "    \n",
    "    def __init__(self, name):\n",
    "        print(\"Car created\")\n",
    "        self.name = name\n",
    "    \n",
    "    def start(self):\n",
    "        pass\n",
    "    def stop(self):\n",
    "        pass\n",
    "    def drive(self):\n",
    "        pass\n",
    "    \n",
    "class Bus(Automobile):\n",
    "    def __init__(self, name):\n",
    "        print(\"Bus Created\")\n",
    "        self.name = name\n",
    "    def start(self):\n",
    "        pass\n",
    "    def stop(self):\n",
    "        pass\n",
    "    def drive(self):\n",
    "        pass\n",
    "    \n",
    "    \n",
    "c = Car(\"Honda\")\n",
    "d = Bus(\"Delhi Metro BUs\")"
   ]
  },
  {
   "cell_type": "markdown",
   "metadata": {},
   "source": [
    "#### 1) Object of abstract class cannot be created\n",
    "#### 2) Implement all the abstract methods in the child class"
   ]
  },
  {
   "cell_type": "code",
   "execution_count": 4,
   "metadata": {},
   "outputs": [
    {
     "ename": "TypeError",
     "evalue": "Can't instantiate abstract class A with abstract methods fun1, fun2",
     "output_type": "error",
     "traceback": [
      "\u001b[1;31m----------------------------------------\u001b[0m",
      "\u001b[1;31mTypeError\u001b[0mTraceback (most recent call last)",
      "\u001b[1;32m<ipython-input-4-b8797ab06aea>\u001b[0m in \u001b[0;36m<module>\u001b[1;34m\u001b[0m\n\u001b[0;32m     13\u001b[0m \u001b[1;33m\u001b[0m\u001b[0m\n\u001b[0;32m     14\u001b[0m \u001b[1;33m\u001b[0m\u001b[0m\n\u001b[1;32m---> 15\u001b[1;33m \u001b[0mo\u001b[0m \u001b[1;33m=\u001b[0m \u001b[0mA\u001b[0m\u001b[1;33m(\u001b[0m\u001b[1;33m)\u001b[0m\u001b[1;33m\u001b[0m\u001b[1;33m\u001b[0m\u001b[0m\n\u001b[0m\u001b[0;32m     16\u001b[0m \u001b[0mo\u001b[0m\u001b[1;33m.\u001b[0m\u001b[0mfun1\u001b[0m\u001b[1;33m(\u001b[0m\u001b[1;33m)\u001b[0m\u001b[1;33m\u001b[0m\u001b[1;33m\u001b[0m\u001b[0m\n",
      "\u001b[1;31mTypeError\u001b[0m: Can't instantiate abstract class A with abstract methods fun1, fun2"
     ]
    }
   ],
   "source": [
    "# Predict the output:\n",
    "from abc import ABC,abstractmethod\n",
    "\n",
    "class A(ABC):\n",
    "\n",
    "    @abstractmethod\n",
    "    def fun1(self):\n",
    "        pass\n",
    "\n",
    "    @abstractmethod\n",
    "    def fun2(self):\n",
    "        pass\n",
    "    \n",
    "\n",
    "o = A()\n",
    "o.fun1()"
   ]
  },
  {
   "cell_type": "code",
   "execution_count": 5,
   "metadata": {},
   "outputs": [
    {
     "ename": "TypeError",
     "evalue": "Can't instantiate abstract class B with abstract methods fun2",
     "output_type": "error",
     "traceback": [
      "\u001b[1;31m----------------------------------------\u001b[0m",
      "\u001b[1;31mTypeError\u001b[0mTraceback (most recent call last)",
      "\u001b[1;32m<ipython-input-5-7810176390f1>\u001b[0m in \u001b[0;36m<module>\u001b[1;34m\u001b[0m\n\u001b[0;32m     17\u001b[0m         \u001b[0mprint\u001b[0m\u001b[1;33m(\u001b[0m\u001b[1;34m\"function 1 called\"\u001b[0m\u001b[1;33m)\u001b[0m\u001b[1;33m\u001b[0m\u001b[1;33m\u001b[0m\u001b[0m\n\u001b[0;32m     18\u001b[0m \u001b[1;33m\u001b[0m\u001b[0m\n\u001b[1;32m---> 19\u001b[1;33m \u001b[0mo\u001b[0m \u001b[1;33m=\u001b[0m \u001b[0mB\u001b[0m\u001b[1;33m(\u001b[0m\u001b[1;33m)\u001b[0m\u001b[1;33m\u001b[0m\u001b[1;33m\u001b[0m\u001b[0m\n\u001b[0m\u001b[0;32m     20\u001b[0m \u001b[0mo\u001b[0m\u001b[1;33m.\u001b[0m\u001b[0mfun1\u001b[0m\u001b[1;33m(\u001b[0m\u001b[1;33m)\u001b[0m\u001b[1;33m\u001b[0m\u001b[1;33m\u001b[0m\u001b[0m\n",
      "\u001b[1;31mTypeError\u001b[0m: Can't instantiate abstract class B with abstract methods fun2"
     ]
    }
   ],
   "source": [
    "# Predict the output:\n",
    "from abc import ABC,abstractmethod\n",
    "\n",
    "class A(ABC):\n",
    "\n",
    "    @abstractmethod\n",
    "    def fun1(self):\n",
    "        pass\n",
    "\n",
    "    @abstractmethod\n",
    "    def fun2(self):\n",
    "        pass\n",
    "\n",
    "class B(A):\n",
    "\n",
    "    def fun1(self):\n",
    "        print(\"function 1 called\")\n",
    "\n",
    "o = B()\n",
    "o.fun1()"
   ]
  },
  {
   "cell_type": "code",
   "execution_count": 6,
   "metadata": {},
   "outputs": [
    {
     "name": "stdout",
     "output_type": "stream",
     "text": [
      "function 1 called\n"
     ]
    }
   ],
   "source": [
    "#Predict the Output:\n",
    "from abc import ABC,abstractmethod\n",
    "\n",
    "class A(ABC):\n",
    "\n",
    "    @abstractmethod\n",
    "    def fun1(self):\n",
    "        pass\n",
    "\n",
    "    @abstractmethod\n",
    "    def fun2(self):\n",
    "        pass\n",
    "\n",
    "class B(A):\n",
    "\n",
    "    def fun1(self):\n",
    "        print(\"function 1 called\")\n",
    "\n",
    "    def fun2(self):\n",
    "        print(\"function 2 called\")\n",
    "        \n",
    "o = B()\n",
    "o.fun1()"
   ]
  },
  {
   "cell_type": "markdown",
   "metadata": {},
   "source": [
    "* In this 3rd example, it's clearly visible that you've implemented all the abstract funtions of class A, class B inherits class A and created the object for class B. Then finally called the fun1() from the object. So, the output got printed else you can visit the first two examples. It throws an error either if you implement only one class or if you try to create an object for abstract class (Example 1)"
   ]
  },
  {
   "cell_type": "markdown",
   "metadata": {},
   "source": [
    "#### You can write code in abstract methods"
   ]
  },
  {
   "cell_type": "code",
   "execution_count": 7,
   "metadata": {},
   "outputs": [
    {
     "name": "stdout",
     "output_type": "stream",
     "text": [
      "Automobile Created\n",
      "Automobile Created\n",
      "4\n",
      "6\n"
     ]
    }
   ],
   "source": [
    "from abc import ABC, abstractmethod\n",
    "\n",
    "class Automobile(ABC):\n",
    "    \n",
    "    def __init__(self, no_of_wheels):\n",
    "        self.no_of_wheels = no_of_wheels \n",
    "        print(\"Automobile Created\")\n",
    "    \n",
    "    @abstractmethod   \n",
    "    def start(self):\n",
    "        print(\"start of Automobile called\")\n",
    "    \n",
    "    @abstractmethod   \n",
    "    def stop(self):\n",
    "        pass\n",
    "    \n",
    "    @abstractmethod   \n",
    "    def drive(self):\n",
    "        pass\n",
    "    \n",
    "    @abstractmethod   \n",
    "    def get_no_of_wheels(self):\n",
    "        return self.no_of_wheels\n",
    "    \n",
    "    \n",
    "class Car(Automobile):\n",
    "        \n",
    "    def start(self):\n",
    "        super().start()\n",
    "        print(\"start of Car called\")\n",
    "    def stop(self):\n",
    "        pass\n",
    "    def drive(self):\n",
    "        pass\n",
    "    def get_no_of_wheels(self):\n",
    "        return super().get_no_of_wheels()\n",
    "    \n",
    "class Bus(Automobile):\n",
    "    def start(self):\n",
    "        pass\n",
    "    def stop(self):\n",
    "        pass\n",
    "    def drive(self):\n",
    "        pass\n",
    "    def get_no_of_wheels(self):\n",
    "        return super().get_no_of_wheels()\n",
    "    \n",
    "    \n",
    "c = Car(4)\n",
    "b = Bus(6)\n",
    "print(c.get_no_of_wheels())\n",
    "print(b.get_no_of_wheels())"
   ]
  },
  {
   "cell_type": "code",
   "execution_count": 8,
   "metadata": {},
   "outputs": [
    {
     "name": "stdout",
     "output_type": "stream",
     "text": [
      "function 1 called\n"
     ]
    }
   ],
   "source": [
    "#Predict the Output:\n",
    "\n",
    "from abc import ABC, abstractmethod\n",
    "\n",
    "class A(ABC):\n",
    "    \n",
    "    @abstractmethod\n",
    "    def fun1(self):\n",
    "        print(\"function of class A called\")\n",
    "    \n",
    "    @abstractmethod\n",
    "    def fun2(self):\n",
    "        pass\n",
    "\n",
    "class B(A):\n",
    "    def fun1(self):\n",
    "        print(\"function 1 called\")\n",
    "    def fun2(self):\n",
    "        print(\"function 2 called\")\n",
    "    \n",
    "o = B()\n",
    "o.fun1()"
   ]
  },
  {
   "cell_type": "code",
   "execution_count": 9,
   "metadata": {},
   "outputs": [
    {
     "name": "stdout",
     "output_type": "stream",
     "text": [
      "function of class A called\n"
     ]
    }
   ],
   "source": [
    "#Predict the Output:\n",
    "\n",
    "from abc import ABC, abstractmethod\n",
    "\n",
    "class A(ABC):\n",
    "    \n",
    "    @abstractmethod\n",
    "    def fun1(self):\n",
    "        print(\"function of class A called\")\n",
    "    \n",
    "    @abstractmethod\n",
    "    def fun2(self):\n",
    "        pass\n",
    "\n",
    "class B(A):\n",
    "    def fun1(self):\n",
    "        super().fun1()\n",
    "    def fun2(self):\n",
    "        print(\" function 2 called\")\n",
    "    \n",
    "o = B()\n",
    "o.fun1()"
   ]
  },
  {
   "cell_type": "code",
   "execution_count": null,
   "metadata": {},
   "outputs": [],
   "source": []
  },
  {
   "cell_type": "code",
   "execution_count": null,
   "metadata": {},
   "outputs": [],
   "source": []
  },
  {
   "cell_type": "markdown",
   "metadata": {},
   "source": [
    "### Errors and Exceptions"
   ]
  },
  {
   "cell_type": "markdown",
   "metadata": {},
   "source": [
    "Syntax Error: is a compiler error Ex: a = \"abc\"\n",
    "\n",
    "These errors or exceptions need to be handled"
   ]
  },
  {
   "cell_type": "code",
   "execution_count": 10,
   "metadata": {},
   "outputs": [
    {
     "ename": "SyntaxError",
     "evalue": "invalid syntax (<ipython-input-10-cd99410c37e9>, line 1)",
     "output_type": "error",
     "traceback": [
      "\u001b[1;36m  File \u001b[1;32m\"<ipython-input-10-cd99410c37e9>\"\u001b[1;36m, line \u001b[1;32m1\u001b[0m\n\u001b[1;33m    a = (abc))           #Syntax Error\u001b[0m\n\u001b[1;37m             ^\u001b[0m\n\u001b[1;31mSyntaxError\u001b[0m\u001b[1;31m:\u001b[0m invalid syntax\n"
     ]
    }
   ],
   "source": [
    "a = (abc))           #Syntax Error"
   ]
  },
  {
   "cell_type": "code",
   "execution_count": 11,
   "metadata": {},
   "outputs": [
    {
     "ename": "ZeroDivisionError",
     "evalue": "division by zero",
     "output_type": "error",
     "traceback": [
      "\u001b[1;31m----------------------------------------\u001b[0m",
      "\u001b[1;31mZeroDivisionError\u001b[0mTraceback (most recent call last)",
      "\u001b[1;32m<ipython-input-11-183e078eeca6>\u001b[0m in \u001b[0;36m<module>\u001b[1;34m\u001b[0m\n\u001b[1;32m----> 1\u001b[1;33m \u001b[0ma\u001b[0m \u001b[1;33m=\u001b[0m \u001b[1;36m10\u001b[0m\u001b[1;33m/\u001b[0m\u001b[1;36m0\u001b[0m              \u001b[1;31m#Zero Division Error\u001b[0m\u001b[1;33m\u001b[0m\u001b[1;33m\u001b[0m\u001b[0m\n\u001b[0m",
      "\u001b[1;31mZeroDivisionError\u001b[0m: division by zero"
     ]
    }
   ],
   "source": [
    "a = 10/0              #Zero Division Error"
   ]
  },
  {
   "cell_type": "code",
   "execution_count": 14,
   "metadata": {},
   "outputs": [
    {
     "ename": "NameError",
     "evalue": "name 'p' is not defined",
     "output_type": "error",
     "traceback": [
      "\u001b[1;31m----------------------------------------\u001b[0m",
      "\u001b[1;31mNameError\u001b[0mTraceback (most recent call last)",
      "\u001b[1;32m<ipython-input-14-76eb5e50e948>\u001b[0m in \u001b[0;36m<module>\u001b[1;34m\u001b[0m\n\u001b[1;32m----> 1\u001b[1;33m \u001b[0ma\u001b[0m \u001b[1;33m=\u001b[0m \u001b[0mp\u001b[0m\u001b[1;33m*\u001b[0m\u001b[1;36m4\u001b[0m                \u001b[1;31m#Name Error\u001b[0m\u001b[1;33m\u001b[0m\u001b[1;33m\u001b[0m\u001b[0m\n\u001b[0m",
      "\u001b[1;31mNameError\u001b[0m: name 'p' is not defined"
     ]
    }
   ],
   "source": [
    "a = p*4                #Name Error"
   ]
  },
  {
   "cell_type": "code",
   "execution_count": 15,
   "metadata": {},
   "outputs": [
    {
     "ename": "TypeError",
     "evalue": "must be str, not int",
     "output_type": "error",
     "traceback": [
      "\u001b[1;31m----------------------------------------\u001b[0m",
      "\u001b[1;31mTypeError\u001b[0mTraceback (most recent call last)",
      "\u001b[1;32m<ipython-input-15-1a890502ce3b>\u001b[0m in \u001b[0;36m<module>\u001b[1;34m\u001b[0m\n\u001b[1;32m----> 1\u001b[1;33m \u001b[0ma\u001b[0m \u001b[1;33m=\u001b[0m \u001b[1;34m'1'\u001b[0m \u001b[1;33m+\u001b[0m \u001b[1;36m2\u001b[0m             \u001b[1;31m#Type Error\u001b[0m\u001b[1;33m\u001b[0m\u001b[1;33m\u001b[0m\u001b[0m\n\u001b[0m",
      "\u001b[1;31mTypeError\u001b[0m: must be str, not int"
     ]
    }
   ],
   "source": [
    "a = '1' + 2             #Type Error"
   ]
  },
  {
   "cell_type": "markdown",
   "metadata": {},
   "source": [
    "### Intro To Exception Handling"
   ]
  },
  {
   "cell_type": "markdown",
   "metadata": {},
   "source": [
    "#### Value Error: Here in the below example string is passed instead of a number so value error occured."
   ]
  },
  {
   "cell_type": "code",
   "execution_count": 16,
   "metadata": {},
   "outputs": [
    {
     "name": "stdout",
     "output_type": "stream",
     "text": [
      "Enter the numerator : 5\n",
      "Enter the denominator :abc\n"
     ]
    },
    {
     "ename": "ValueError",
     "evalue": "invalid literal for int() with base 10: 'abc'",
     "output_type": "error",
     "traceback": [
      "\u001b[1;31m----------------------------------------\u001b[0m",
      "\u001b[1;31mValueError\u001b[0mTraceback (most recent call last)",
      "\u001b[1;32m<ipython-input-16-0822a82406d0>\u001b[0m in \u001b[0;36m<module>\u001b[1;34m\u001b[0m\n\u001b[0;32m      2\u001b[0m \u001b[0mnum\u001b[0m \u001b[1;33m=\u001b[0m \u001b[0mint\u001b[0m\u001b[1;33m(\u001b[0m\u001b[0mn\u001b[0m\u001b[1;33m)\u001b[0m\u001b[1;33m\u001b[0m\u001b[1;33m\u001b[0m\u001b[0m\n\u001b[0;32m      3\u001b[0m \u001b[0mn\u001b[0m \u001b[1;33m=\u001b[0m \u001b[0minput\u001b[0m\u001b[1;33m(\u001b[0m\u001b[1;34m\"Enter the denominator :\"\u001b[0m\u001b[1;33m)\u001b[0m\u001b[1;33m\u001b[0m\u001b[1;33m\u001b[0m\u001b[0m\n\u001b[1;32m----> 4\u001b[1;33m \u001b[0mden\u001b[0m \u001b[1;33m=\u001b[0m \u001b[0mint\u001b[0m\u001b[1;33m(\u001b[0m\u001b[0mn\u001b[0m\u001b[1;33m)\u001b[0m\u001b[1;33m\u001b[0m\u001b[1;33m\u001b[0m\u001b[0m\n\u001b[0m\u001b[0;32m      5\u001b[0m \u001b[1;33m\u001b[0m\u001b[0m\n\u001b[0;32m      6\u001b[0m \u001b[0mvalue\u001b[0m \u001b[1;33m=\u001b[0m \u001b[0mnum\u001b[0m\u001b[1;33m/\u001b[0m\u001b[0mden\u001b[0m\u001b[1;33m\u001b[0m\u001b[1;33m\u001b[0m\u001b[0m\n",
      "\u001b[1;31mValueError\u001b[0m: invalid literal for int() with base 10: 'abc'"
     ]
    }
   ],
   "source": [
    "n = input(\"Enter the numerator : \")\n",
    "num = int(n)\n",
    "n = input(\"Enter the denominator :\")\n",
    "den = int(n)\n",
    "\n",
    "value = num/den\n",
    "print(value)"
   ]
  },
  {
   "cell_type": "markdown",
   "metadata": {},
   "source": [
    "#### How to handle Value Error using try and except\n",
    "Try Block : Try block contains the code which can give the error.\n",
    "\n",
    "Except Block : Except Block Handle the error given by try block."
   ]
  },
  {
   "cell_type": "code",
   "execution_count": 17,
   "metadata": {},
   "outputs": [
    {
     "name": "stdout",
     "output_type": "stream",
     "text": [
      "Enter the numerator : 5\n",
      "Enter the denominator :abc\n",
      "Numerator and Denominator should be integers\n"
     ]
    }
   ],
   "source": [
    "try:\n",
    "    n = input(\"Enter the numerator : \")\n",
    "    num = int(n)\n",
    "    n = input(\"Enter the denominator :\")\n",
    "    den = int(n)\n",
    "\n",
    "    value = num/den\n",
    "    print(value)\n",
    "except ValueError:\n",
    "    print(\"Numerator and Denominator should be integers\")"
   ]
  },
  {
   "cell_type": "code",
   "execution_count": 18,
   "metadata": {},
   "outputs": [
    {
     "name": "stdout",
     "output_type": "stream",
     "text": [
      "Enter the numerator : 5\n",
      "Enter the denominator :abc\n"
     ]
    },
    {
     "ename": "ValueError",
     "evalue": "invalid literal for int() with base 10: 'abc'",
     "output_type": "error",
     "traceback": [
      "\u001b[1;31m----------------------------------------\u001b[0m",
      "\u001b[1;31mValueError\u001b[0mTraceback (most recent call last)",
      "\u001b[1;32m<ipython-input-18-ac61986ef285>\u001b[0m in \u001b[0;36m<module>\u001b[1;34m\u001b[0m\n\u001b[0;32m      3\u001b[0m     \u001b[0mnum\u001b[0m \u001b[1;33m=\u001b[0m \u001b[0mint\u001b[0m\u001b[1;33m(\u001b[0m\u001b[0mn\u001b[0m\u001b[1;33m)\u001b[0m\u001b[1;33m\u001b[0m\u001b[1;33m\u001b[0m\u001b[0m\n\u001b[0;32m      4\u001b[0m     \u001b[0mn\u001b[0m \u001b[1;33m=\u001b[0m \u001b[0minput\u001b[0m\u001b[1;33m(\u001b[0m\u001b[1;34m\"Enter the denominator :\"\u001b[0m\u001b[1;33m)\u001b[0m\u001b[1;33m\u001b[0m\u001b[1;33m\u001b[0m\u001b[0m\n\u001b[1;32m----> 5\u001b[1;33m     \u001b[0mden\u001b[0m \u001b[1;33m=\u001b[0m \u001b[0mint\u001b[0m\u001b[1;33m(\u001b[0m\u001b[0mn\u001b[0m\u001b[1;33m)\u001b[0m\u001b[1;33m\u001b[0m\u001b[1;33m\u001b[0m\u001b[0m\n\u001b[0m\u001b[0;32m      6\u001b[0m \u001b[1;33m\u001b[0m\u001b[0m\n\u001b[0;32m      7\u001b[0m     \u001b[0mvalue\u001b[0m \u001b[1;33m=\u001b[0m \u001b[0mnum\u001b[0m\u001b[1;33m/\u001b[0m\u001b[0mden\u001b[0m\u001b[1;33m\u001b[0m\u001b[1;33m\u001b[0m\u001b[0m\n",
      "\u001b[1;31mValueError\u001b[0m: invalid literal for int() with base 10: 'abc'"
     ]
    }
   ],
   "source": [
    "try:\n",
    "    n = input(\"Enter the numerator : \")\n",
    "    num = int(n)\n",
    "    n = input(\"Enter the denominator :\")\n",
    "    den = int(n)\n",
    "\n",
    "    value = num/den\n",
    "    print(value)\n",
    "except NameError:\n",
    "    print(\"Numerator and Denominator should be integers\")"
   ]
  },
  {
   "cell_type": "markdown",
   "metadata": {},
   "source": [
    "* In above example ,We are handling name error instead of value error so the code gives us error."
   ]
  },
  {
   "cell_type": "markdown",
   "metadata": {},
   "source": [
    "#### Use except keyword to include all errors"
   ]
  },
  {
   "cell_type": "code",
   "execution_count": 19,
   "metadata": {},
   "outputs": [
    {
     "name": "stdout",
     "output_type": "stream",
     "text": [
      "Enter the numerator : 5\n",
      "Enter the denominator :abc\n",
      "Numerator and Denominator should be integers\n"
     ]
    }
   ],
   "source": [
    "try:\n",
    "    n = input(\"Enter the numerator : \")\n",
    "    num = int(n)\n",
    "    n = input(\"Enter the denominator :\")\n",
    "    den = int(n)\n",
    "\n",
    "    value = num/den\n",
    "    print(value)\n",
    "except:                   # It includes all ERRORS\n",
    "    print(\"Numerator and Denominator should be integers\")\n"
   ]
  },
  {
   "cell_type": "markdown",
   "metadata": {},
   "source": [
    "* The code is executed only till the error come."
   ]
  },
  {
   "cell_type": "markdown",
   "metadata": {},
   "source": [
    "#### Take the input until the user enters the expected input"
   ]
  },
  {
   "cell_type": "code",
   "execution_count": 20,
   "metadata": {},
   "outputs": [
    {
     "name": "stdout",
     "output_type": "stream",
     "text": [
      "Enter the numerator : 5\n",
      "Enter the denominator :abc\n",
      "Numerator and Denominator should be integers\n",
      "Enter the numerator : acb\n",
      "Numerator and Denominator should be integers\n",
      "Enter the numerator : 45\n",
      "Enter the denominator :50\n",
      "0.9\n"
     ]
    }
   ],
   "source": [
    "while True:\n",
    "    try:\n",
    "        n = input(\"Enter the numerator : \")\n",
    "        num = int(n)\n",
    "        n = input(\"Enter the denominator :\")\n",
    "        den = int(n)\n",
    "        value = num/den\n",
    "        print(value)\n",
    "        break\n",
    "    except:                   # It includes all ERRORS\n",
    "        print(\"Numerator and Denominator should be integers\")"
   ]
  },
  {
   "cell_type": "code",
   "execution_count": 21,
   "metadata": {},
   "outputs": [
    {
     "ename": "ZeroDivisionError",
     "evalue": "division by zero",
     "output_type": "error",
     "traceback": [
      "\u001b[1;31m----------------------------------------\u001b[0m",
      "\u001b[1;31mZeroDivisionError\u001b[0mTraceback (most recent call last)",
      "\u001b[1;32m<ipython-input-21-8b521760c554>\u001b[0m in \u001b[0;36m<module>\u001b[1;34m\u001b[0m\n\u001b[0;32m      3\u001b[0m     \u001b[0ma\u001b[0m \u001b[1;33m=\u001b[0m \u001b[1;36m10\u001b[0m\u001b[1;33m\u001b[0m\u001b[1;33m\u001b[0m\u001b[0m\n\u001b[0;32m      4\u001b[0m     \u001b[0mb\u001b[0m \u001b[1;33m=\u001b[0m \u001b[1;36m0\u001b[0m\u001b[1;33m\u001b[0m\u001b[1;33m\u001b[0m\u001b[0m\n\u001b[1;32m----> 5\u001b[1;33m     \u001b[0mc\u001b[0m \u001b[1;33m=\u001b[0m \u001b[0ma\u001b[0m\u001b[1;33m/\u001b[0m\u001b[0mb\u001b[0m\u001b[1;33m\u001b[0m\u001b[1;33m\u001b[0m\u001b[0m\n\u001b[0m\u001b[0;32m      6\u001b[0m     \u001b[0mprint\u001b[0m\u001b[1;33m(\u001b[0m\u001b[0mc\u001b[0m\u001b[1;33m)\u001b[0m\u001b[1;33m\u001b[0m\u001b[1;33m\u001b[0m\u001b[0m\n\u001b[0;32m      7\u001b[0m \u001b[1;32mexcept\u001b[0m \u001b[0mValueError\u001b[0m\u001b[1;33m:\u001b[0m\u001b[1;33m\u001b[0m\u001b[1;33m\u001b[0m\u001b[0m\n",
      "\u001b[1;31mZeroDivisionError\u001b[0m: division by zero"
     ]
    }
   ],
   "source": [
    "#Predict the Output:\n",
    "try:\n",
    "    a = 10\n",
    "    b = 0\n",
    "    c = a/b\n",
    "    print(c)\n",
    "except ValueError:\n",
    "    print(\"Exception occured\")"
   ]
  },
  {
   "cell_type": "code",
   "execution_count": 22,
   "metadata": {},
   "outputs": [
    {
     "name": "stdout",
     "output_type": "stream",
     "text": [
      "Exception occured\n"
     ]
    }
   ],
   "source": [
    "#Predict the Output:\n",
    "try:\n",
    "    a = 10\n",
    "    b = 0\n",
    "    c = a/b\n",
    "    print(c)\n",
    "except ZeroDivisionError:\n",
    "    print(\"Exception occured\")"
   ]
  },
  {
   "cell_type": "code",
   "execution_count": 23,
   "metadata": {},
   "outputs": [
    {
     "name": "stdout",
     "output_type": "stream",
     "text": [
      "Exception occured\n"
     ]
    }
   ],
   "source": [
    "#Predict the Output:\n",
    "try:\n",
    "    a = 10\n",
    "    b = 0\n",
    "    c = a/b\n",
    "    print(c)\n",
    "except :\n",
    "    print(\"Exception occured\")"
   ]
  },
  {
   "cell_type": "markdown",
   "metadata": {},
   "source": [
    "### Handling Multiple Exceptions"
   ]
  },
  {
   "cell_type": "markdown",
   "metadata": {},
   "source": [
    "#### How to handle Multiple Exceptions?"
   ]
  },
  {
   "cell_type": "code",
   "execution_count": 25,
   "metadata": {},
   "outputs": [
    {
     "name": "stdout",
     "output_type": "stream",
     "text": [
      "Enter the numerator :5\n",
      "Enter the denominator :abc\n",
      "Numerator and Denominator should be integers\n",
      "Enter the numerator :5\n",
      "Enter the denominator :0\n",
      "Denominator should not be zero\n",
      "Enter the numerator :5\n",
      "Enter the denominator :5\n",
      "1.0\n"
     ]
    }
   ],
   "source": [
    "while True:\n",
    "    try:\n",
    "        n = input(\"Enter the numerator :\")\n",
    "        num = int(n)\n",
    "        n = input(\"Enter the denominator :\")\n",
    "        den = int(n)\n",
    "        value = num/den\n",
    "        print(value)\n",
    "        break\n",
    "    except ValueError:\n",
    "        print(\"Numerator and Denominator should be integers\")\n",
    "    except ZeroDivisionError:\n",
    "        print(\"Denominator should not be zero\")"
   ]
  },
  {
   "cell_type": "markdown",
   "metadata": {},
   "source": [
    "#### How to handle Multiple Exceptions in a single line?"
   ]
  },
  {
   "cell_type": "code",
   "execution_count": 26,
   "metadata": {},
   "outputs": [
    {
     "name": "stdout",
     "output_type": "stream",
     "text": [
      "Enter the numerator :5\n",
      "Enter the denominator :abc\n",
      "Numerator and Denominator should be integers and Denominator should not be zero\n",
      "Enter the numerator :4\n",
      "Enter the denominator :0\n",
      "Numerator and Denominator should be integers and Denominator should not be zero\n",
      "Enter the numerator :5\n",
      "Enter the denominator :5\n",
      "1.0\n"
     ]
    }
   ],
   "source": [
    "while True:\n",
    "    try:\n",
    "        n = input(\"Enter the numerator :\")\n",
    "        num = int(n)\n",
    "        n = input(\"Enter the denominator :\")\n",
    "        den = int(n)\n",
    "        value = num/den\n",
    "        print(value)\n",
    "        break\n",
    "    except (ValueError, ZeroDivisionError):      \n",
    "        print(\"Numerator and Denominator should be integers and Denominator should not be zero\")"
   ]
  },
  {
   "cell_type": "code",
   "execution_count": 29,
   "metadata": {},
   "outputs": [
    {
     "name": "stdout",
     "output_type": "stream",
     "text": [
      "Name Error occured\n"
     ]
    }
   ],
   "source": [
    "#Predict the Output:\n",
    "try:\n",
    "    a = 10\n",
    "    b = 0\n",
    "    print(f)\n",
    "    c = a/b\n",
    "except NameError:\n",
    "    print(\"Name Error occured\")\n",
    "except ZeroDivisionError:\n",
    "    print(\"Zero Division Error occured\")"
   ]
  },
  {
   "cell_type": "code",
   "execution_count": null,
   "metadata": {},
   "outputs": [],
   "source": []
  },
  {
   "cell_type": "markdown",
   "metadata": {},
   "source": [
    "### Custom Exceptions\n",
    "raise : raise keyword is used to raise custom exceptions "
   ]
  },
  {
   "cell_type": "code",
   "execution_count": 30,
   "metadata": {},
   "outputs": [
    {
     "name": "stdout",
     "output_type": "stream",
     "text": [
      "Enter the numerator :5\n",
      "Enter the denominator :abc\n",
      "Numerator and Denominator should be integers\n",
      "Enter the numerator :5\n",
      "Enter the denominator :0\n",
      "Denominator should not be zero\n",
      "Enter the numerator :5\n",
      "Enter the denominator :5\n",
      "Hi\n",
      "1.0\n"
     ]
    }
   ],
   "source": [
    "while True:\n",
    "    try:\n",
    "        n = input(\"Enter the numerator :\")\n",
    "        num = int(n)\n",
    "        n = input(\"Enter the denominator :\")\n",
    "        den = int(n)\n",
    "        if den == 0:\n",
    "            raise ZeroDivisionError\n",
    "        print(\"Hi\") \n",
    "        value = num/den\n",
    "        print(value)\n",
    "        break\n",
    "    except ValueError:\n",
    "        print(\"Numerator and Denominator should be integers\")\n",
    "    except ZeroDivisionError:\n",
    "        print(\"Denominator should not be zero\")"
   ]
  },
  {
   "cell_type": "code",
   "execution_count": 31,
   "metadata": {},
   "outputs": [
    {
     "name": "stdout",
     "output_type": "stream",
     "text": [
      "Enter the numerator :5\n",
      "Enter the denominator :0\n",
      "ZeroDenominatorError is raised\n",
      "Enter the numerator :55\n",
      "Enter the denominator :34\n",
      "1.6176470588235294\n"
     ]
    }
   ],
   "source": [
    "#Raise your own Exception:\n",
    "class ZeroDenominatorError(Exception):\n",
    "    pass\n",
    "while True:\n",
    "    try:\n",
    "        n = input(\"Enter the numerator :\")\n",
    "        num = int(n)\n",
    "        n = input(\"Enter the denominator :\")\n",
    "        den = int(n)\n",
    "        if den == 0:\n",
    "            raise ZeroDenominatorError('Denominator should not be zero')\n",
    "        value = num/den\n",
    "        print(value)\n",
    "        break\n",
    "    except ValueError:\n",
    "        print(\"Numerator and Denominator should be integers\")\n",
    "    except ZeroDivisionError:\n",
    "        print(\"Division by zero is not allowed\")\n",
    "    except ZeroDenominatorError:\n",
    "        print(\"ZeroDenominatorError is raised\")"
   ]
  },
  {
   "cell_type": "code",
   "execution_count": 37,
   "metadata": {},
   "outputs": [
    {
     "ename": "SyntaxError",
     "evalue": "invalid character in identifier (<ipython-input-37-c15fd33b6a8f>, line 10)",
     "output_type": "error",
     "traceback": [
      "\u001b[1;36m  File \u001b[1;32m\"<ipython-input-37-c15fd33b6a8f>\"\u001b[1;36m, line \u001b[1;32m10\u001b[0m\n\u001b[1;33m    print(‘Zero Division Error occured’)\u001b[0m\n\u001b[1;37m              ^\u001b[0m\n\u001b[1;31mSyntaxError\u001b[0m\u001b[1;31m:\u001b[0m invalid character in identifier\n"
     ]
    }
   ],
   "source": [
    "#Predict the Output:\n",
    "try:\n",
    "    a = 10\n",
    "    b = 0\n",
    "    print(d)\n",
    "    c = a/b\n",
    "except NameError:\n",
    "    print('Name Error occured')\n",
    "except ZeroDivisionError:\n",
    "    print(‘Zero Division Error occured’)"
   ]
  },
  {
   "cell_type": "markdown",
   "metadata": {},
   "source": [
    "### Except Block Functionality"
   ]
  },
  {
   "cell_type": "code",
   "execution_count": 38,
   "metadata": {},
   "outputs": [
    {
     "name": "stdout",
     "output_type": "stream",
     "text": [
      "Enter the numerator :5\n",
      "Enter the denominator :0\n",
      "Division by zero is not allowed\n",
      "Enter the numerator :5\n",
      "Enter the denominator :6\n",
      "0.8333333333333334\n"
     ]
    }
   ],
   "source": [
    "#Raise your own Exception:                       \n",
    "class ZeroDenominatorError(ZeroDivisionError): #Here we're inheriting ZeroDivisionError\n",
    "    pass                                       #Every ZeroDenominatorError is a ZeroDivisionError   \n",
    "while True:\n",
    "    try:\n",
    "        n = input(\"Enter the numerator :\")\n",
    "        num = int(n)\n",
    "        n = input(\"Enter the denominator :\")\n",
    "        den = int(n)\n",
    "        if den == 0:\n",
    "            raise ZeroDenominatorError('Denominator should not be zero')\n",
    "        value = num/den\n",
    "        print(value)\n",
    "        break\n",
    "    except ValueError:\n",
    "        print(\"Numerator and Denominator should be integers\")\n",
    "    except ZeroDivisionError:\n",
    "        print(\"Division by zero is not allowed\")\n",
    "    except ZeroDenominatorError:\n",
    "        print(\"ZeroDenominatorError is raised\")"
   ]
  },
  {
   "cell_type": "code",
   "execution_count": 39,
   "metadata": {},
   "outputs": [
    {
     "name": "stdout",
     "output_type": "stream",
     "text": [
      "Enter the numerator :5\n",
      "Enter the denominator :0\n",
      "ZeroDenominatorError is raised\n",
      "Enter the numerator :5\n",
      "Enter the denominator :8\n",
      "0.625\n"
     ]
    }
   ],
   "source": [
    "#Raise your own Exception:                       \n",
    "class ZeroDenominatorError(ZeroDivisionError): #Here we're inheriting ZeroDivisionError\n",
    "    pass                                       #Every ZeroDenominatorError is a ZeroDivisionError   \n",
    "while True:\n",
    "    try:\n",
    "        n = input(\"Enter the numerator :\")\n",
    "        num = int(n)\n",
    "        n = input(\"Enter the denominator :\")\n",
    "        den = int(n)\n",
    "        if den == 0:\n",
    "            raise ZeroDenominatorError('Denominator should not be zero')\n",
    "        value = num/den\n",
    "        print(value)\n",
    "        break\n",
    "    except ValueError:\n",
    "        print(\"Numerator and Denominator should be integers\")\n",
    "    except ZeroDenominatorError:              #Order matters here\n",
    "        print(\"ZeroDenominatorError is raised\")\n",
    "    except ZeroDivisionError:\n",
    "        print(\"Division by zero is not allowed\")"
   ]
  },
  {
   "cell_type": "code",
   "execution_count": 40,
   "metadata": {},
   "outputs": [
    {
     "ename": "SyntaxError",
     "evalue": "default 'except:' must be last (<ipython-input-40-e615953b2185>, line 21)",
     "output_type": "error",
     "traceback": [
      "\u001b[1;36m  File \u001b[1;32m\"<ipython-input-40-e615953b2185>\"\u001b[1;36m, line \u001b[1;32m21\u001b[0m\n\u001b[1;33m    except ZeroDivisionError:\u001b[0m\n\u001b[1;37m                     ^\u001b[0m\n\u001b[1;31mSyntaxError\u001b[0m\u001b[1;31m:\u001b[0m default 'except:' must be last\n"
     ]
    }
   ],
   "source": [
    "#Raise your own Exception:                       \n",
    "class ZeroDenominatorError(ZeroDivisionError): #Here we're inheriting ZeroDivisionError\n",
    "    pass                                       #Every ZeroDenominatorError is a ZeroDivisionError   \n",
    "while True:\n",
    "    try:\n",
    "        n = input(\"Enter the numerator :\")\n",
    "        num = int(n)\n",
    "        n = input(\"Enter the denominator :\")\n",
    "        den = int(n)\n",
    "        if den == 0:\n",
    "            raise ZeroDenominatorError('Denominator should not be zero')\n",
    "        value = num/den\n",
    "        print(value)\n",
    "        break\n",
    "    except ValueError:\n",
    "        print(\"Numerator and Denominator should be integers\")\n",
    "    except ZeroDenominatorError:              #Order matters here\n",
    "        print(\"ZeroDenominatorError is raised\")\n",
    "    except:                               #Default Exception must be at last\n",
    "        print(\"Some exception is raised\")\n",
    "    except ZeroDivisionError:\n",
    "        print(\"Division by zero is not allowed\")"
   ]
  },
  {
   "cell_type": "code",
   "execution_count": 41,
   "metadata": {},
   "outputs": [
    {
     "name": "stdout",
     "output_type": "stream",
     "text": [
      "Enter the numerator :5\n",
      "Enter the denominator :6\n",
      "0.8333333333333334\n"
     ]
    }
   ],
   "source": [
    "#Raise your own Exception:                       \n",
    "class ZeroDenominatorError(ZeroDivisionError): #Here we're inheriting ZeroDivisionError\n",
    "    pass                                       #Every ZeroDenominatorError is a ZeroDivisionError   \n",
    "while True:\n",
    "    try:\n",
    "        n = input(\"Enter the numerator :\")\n",
    "        num = int(n)\n",
    "        n = input(\"Enter the denominator :\")\n",
    "        den = int(n)\n",
    "        if den == 0:\n",
    "            raise ZeroDenominatorError('Denominator should not be zero')\n",
    "        value = num/den\n",
    "        print(value)\n",
    "        break\n",
    "    except ValueError:\n",
    "        print(\"Numerator and Denominator should be integers\")\n",
    "    except ZeroDenominatorError:              #Order matters here\n",
    "        print(\"ZeroDenominatorError is raised\")\n",
    "    except ZeroDivisionError:\n",
    "        print(\"Division by zero is not allowed\")\n",
    "    except:                               #Default Exception should be at last\n",
    "        print(\"Some exception is raised\")"
   ]
  },
  {
   "cell_type": "code",
   "execution_count": 42,
   "metadata": {},
   "outputs": [
    {
     "name": "stdout",
     "output_type": "stream",
     "text": [
      "Zero Division Error occured\n"
     ]
    }
   ],
   "source": [
    "#Predict the Output:\n",
    "class ZeroDenominatorError(ZeroDivisionError):\n",
    "    pass\n",
    "try:\n",
    "    a = 10\n",
    "    b = 0\n",
    "    if(b==0):\n",
    "        raise ZeroDenominatorError()\n",
    "    c = a/b\n",
    "except ZeroDivisionError:\n",
    "    print('Zero Division Error occured')\n",
    "except ZeroDenominatorError:\n",
    "    print('Zero Denominator Error occured')"
   ]
  },
  {
   "cell_type": "code",
   "execution_count": null,
   "metadata": {},
   "outputs": [],
   "source": []
  },
  {
   "cell_type": "markdown",
   "metadata": {},
   "source": [
    "### Else and Finally"
   ]
  },
  {
   "cell_type": "markdown",
   "metadata": {},
   "source": [
    "#### Else : Else block is executed only when no exception is raised.\n",
    "\n",
    "#### Finally : Finally block is always executed whether their is exception is raised or not.\n",
    "\n",
    "Note : Finally block should always be the last block in order of blocks."
   ]
  },
  {
   "cell_type": "code",
   "execution_count": 43,
   "metadata": {},
   "outputs": [
    {
     "name": "stdout",
     "output_type": "stream",
     "text": [
      "Enter the numerator :5\n",
      "Enter the denominator :0\n",
      "ZeroDenominatorError is raised\n",
      "Exception may or may not be raised\n",
      "Enter the numerator :5\n",
      "Enter the denominator :4\n",
      "1.25\n",
      "Exception may or may not be raised\n"
     ]
    }
   ],
   "source": [
    "#Raise your own Exception:                       \n",
    "class ZeroDenominatorError(ZeroDivisionError): #Here we're inheriting ZeroDivisionError\n",
    "    pass                                       #Every ZeroDenominatorError is a ZeroDivisionError   \n",
    "while True:\n",
    "    try:\n",
    "        n = input(\"Enter the numerator :\")\n",
    "        num = int(n)\n",
    "        n = input(\"Enter the denominator :\")\n",
    "        den = int(n)\n",
    "        if den == 0:\n",
    "            raise ZeroDenominatorError('Denominator should not be zero')\n",
    "        value = num/den\n",
    "   \n",
    "    except ValueError:\n",
    "        print(\"Numerator and Denominator should be integers\")\n",
    "    except ZeroDenominatorError:              #Order matters here\n",
    "        print(\"ZeroDenominatorError is raised\")\n",
    "    except ZeroDivisionError:\n",
    "        print(\"Division by zero is not allowed\")\n",
    "    except:                               #Default Exception should be at last\n",
    "        print(\"Some exception is raised\")\n",
    "   \n",
    "    else:                  #If no exception has come in try block then else block is executed\n",
    "        print(value)\n",
    "        break \n",
    "    \n",
    "    finally:        # If excception comes then exception code is executed and then finally is executed\n",
    "        print(\"Exception may or may not be raised\")"
   ]
  },
  {
   "cell_type": "markdown",
   "metadata": {},
   "source": [
    "#### Order:\n",
    "\n",
    "try     \n",
    "\n",
    "except \n",
    "\n",
    "else \n",
    "\n",
    "finally"
   ]
  },
  {
   "cell_type": "code",
   "execution_count": 44,
   "metadata": {},
   "outputs": [
    {
     "name": "stdout",
     "output_type": "stream",
     "text": [
      "Zero Division Error occured "
     ]
    }
   ],
   "source": [
    "#Predict the Output:\n",
    "class ZeroDenominatorError(ZeroDivisionError):\n",
    "    pass\n",
    "try:\n",
    "    a = 10\n",
    "    b = 0\n",
    "    if(b==0):\n",
    "        raise ZeroDenominatorError()\n",
    "    c = a/b\n",
    "except ZeroDivisionError:\n",
    "    print('Zero Division Error occured',end= \" \")\n",
    "except ZeroDenominatorError:\n",
    "    print('Zero Denominator Error occured',end = \" \")\n",
    "else:\n",
    "    print(\"else works\")"
   ]
  },
  {
   "cell_type": "code",
   "execution_count": 45,
   "metadata": {},
   "outputs": [
    {
     "name": "stdout",
     "output_type": "stream",
     "text": [
      "else works\n"
     ]
    }
   ],
   "source": [
    "#Predict the Output:\n",
    "class ZeroDenominatorError(ZeroDivisionError):\n",
    "    pass\n",
    "try:\n",
    "    a = 10\n",
    "    b = 5\n",
    "    if(b==0):\n",
    "        raise ZeroDenominatorError()\n",
    "    c = a/b\n",
    "except ZeroDivisionError:\n",
    "    print('Zero Division Error occured',end= \" \")\n",
    "except ZeroDenominatorError:\n",
    "    print('Zero Denominator Error occured',end = \" \")\n",
    "else:\n",
    "    print('else works')"
   ]
  },
  {
   "cell_type": "code",
   "execution_count": 48,
   "metadata": {},
   "outputs": [
    {
     "name": "stdout",
     "output_type": "stream",
     "text": [
      "else works \n",
      "\n",
      "finally works\n"
     ]
    }
   ],
   "source": [
    "#Predict the Output:\n",
    "class ZeroDenominatorError(ZeroDivisionError):\n",
    "    pass\n",
    "try:\n",
    "    a = 10\n",
    "    b = 5\n",
    "    if(b==0):\n",
    "        raise ZeroDenominatorError()\n",
    "    c = a/b\n",
    "except ZeroDivisionError:\n",
    "    print('Zero Division Error occured',end= \" \")\n",
    "except ZeroDenominatorError:\n",
    "    print('Zero Denominator Error occured',end = \" \")\n",
    "else:\n",
    "    print(\"else works \\n\")\n",
    "finally:\n",
    "    print(\"finally works\")"
   ]
  },
  {
   "cell_type": "code",
   "execution_count": null,
   "metadata": {},
   "outputs": [],
   "source": []
  },
  {
   "cell_type": "code",
   "execution_count": null,
   "metadata": {},
   "outputs": [],
   "source": []
  },
  {
   "cell_type": "markdown",
   "metadata": {},
   "source": [
    "### More About Finally"
   ]
  },
  {
   "cell_type": "markdown",
   "metadata": {},
   "source": [
    "#### Numerator has a value Error¶"
   ]
  },
  {
   "cell_type": "code",
   "execution_count": 49,
   "metadata": {},
   "outputs": [
    {
     "name": "stdout",
     "output_type": "stream",
     "text": [
      "Enter the numerator :as\n",
      "Numerator and Denominator should be integers\n",
      "5\n",
      "4\n",
      "1.25\n",
      "Exception may or may not be raised\n",
      "Enter the numerator :5\n",
      "Enter the denominator :6\n",
      "0.8333333333333334\n",
      "5\n",
      "6\n",
      "0.8333333333333334\n",
      "Exception may or may not be raised\n"
     ]
    }
   ],
   "source": [
    "#Raise your own Exception:                       \n",
    "class ZeroDenominatorError(ZeroDivisionError): #Here we're inheriting ZeroDivisionError\n",
    "    pass                                       #Every ZeroDenominatorError is a ZeroDivisionError   \n",
    "while True:\n",
    "    try:\n",
    "        n = input(\"Enter the numerator :\")\n",
    "        num = int(n)\n",
    "        n = input(\"Enter the denominator :\")\n",
    "        den = int(n)\n",
    "        if den == 0:\n",
    "            raise ZeroDenominatorError('Denominator should not be zero')\n",
    "        value = num/den\n",
    "   \n",
    "    except ValueError:\n",
    "        print(\"Numerator and Denominator should be integers\")\n",
    "    except ZeroDenominatorError:              #Order matters here\n",
    "        print(\"ZeroDenominatorError is raised\")\n",
    "    except ZeroDivisionError:\n",
    "        print(\"Division by zero is not allowed\")\n",
    "    except:                               #Default Exception should be at last\n",
    "        print(\"Some exception is raised\")\n",
    "   \n",
    "    else:                  #If no exception has come in try block then else block is executed\n",
    "        print(value)\n",
    "        break \n",
    "    \n",
    "    finally:        # If excception comes then exception code is executed and then finally is executed\n",
    "        print(num)\n",
    "        print(den)\n",
    "        print(value)\n",
    "        print(\"Exception may or may not be raised\")"
   ]
  },
  {
   "cell_type": "markdown",
   "metadata": {},
   "source": [
    "#### Numerator = 450 and Denominator has a ValueError so only Numerator got printed"
   ]
  },
  {
   "cell_type": "code",
   "execution_count": null,
   "metadata": {},
   "outputs": [],
   "source": [
    "#Raise your own Exception:                       \n",
    "class ZeroDenominatorError(ZeroDivisionError): #Here we're inheriting ZeroDivisionError\n",
    "    pass                                       #Every ZeroDenominatorError is a ZeroDivisionError   \n",
    "while True:\n",
    "    try:\n",
    "        n = input(\"Enter the numerator :\")\n",
    "        num = int(n)\n",
    "        n = input(\"Enter the denominator :\")\n",
    "        den = int(n)\n",
    "        if den == 0:\n",
    "            raise ZeroDenominatorError('Denominator should not be zero')\n",
    "        value = num/den\n",
    "   \n",
    "    except ValueError:\n",
    "        print(\"Numerator and Denominator should be integers\")\n",
    "    except ZeroDenominatorError:              #Order matters here\n",
    "        print(\"ZeroDenominatorError is raised\")\n",
    "    except ZeroDivisionError:\n",
    "        print(\"Division by zero is not allowed\")\n",
    "    except:                               #Default Exception should be at last\n",
    "        print(\"Some exception is raised\")\n",
    "   \n",
    "    else:                  #If no exception has come in try block then else block is executed\n",
    "        print(value)\n",
    "        break \n",
    "    \n",
    "    finally:        # If excception comes then exception code is executed and then finally is executed\n",
    "        print(num)\n",
    "        print(den)\n",
    "        print(value)\n",
    "        print(\"Exception may or may not be raised\")"
   ]
  },
  {
   "cell_type": "markdown",
   "metadata": {},
   "source": [
    "#### Now you can imagine what I'm trying to tell you, isn't it?"
   ]
  },
  {
   "cell_type": "code",
   "execution_count": null,
   "metadata": {},
   "outputs": [],
   "source": [
    "#Raise your own Exception:                       \n",
    "class ZeroDenominatorError(ZeroDivisionError): #Here we're inheriting ZeroDivisionError\n",
    "    pass                                       #Every ZeroDenominatorError is a ZeroDivisionError   \n",
    "while True:\n",
    "    try:\n",
    "        n = input(\"Enter the numerator :\")\n",
    "        num = int(n)\n",
    "        n = input(\"Enter the denominator :\")\n",
    "        den = int(n)\n",
    "        if den == 0:\n",
    "            raise ZeroDenominatorError('Denominator should not be zero')\n",
    "        value = num/den\n",
    "   \n",
    "    except ValueError:\n",
    "        print(\"Numerator and Denominator should be integers\")\n",
    "    except ZeroDenominatorError:              #Order matters here\n",
    "        print(\"ZeroDenominatorError is raised\")\n",
    "    except ZeroDivisionError:\n",
    "        print(\"Division by zero is not allowed\")\n",
    "    except:                               #Default Exception should be at last\n",
    "        print(\"Some exception is raised\")\n",
    "   \n",
    "    else:                  #If no exception has come in try block then else block is executed\n",
    "        print(value)\n",
    "        break \n",
    "    \n",
    "    finally:        # If excception comes then exception code is executed and then finally is executed\n",
    "        print(num)\n",
    "        print(den)\n",
    "        print(value)\n",
    "        print(\"Exception may or may not be raised\")"
   ]
  },
  {
   "cell_type": "markdown",
   "metadata": {},
   "source": [
    "#### Tip: Don't use variables in case of finally"
   ]
  },
  {
   "cell_type": "code",
   "execution_count": null,
   "metadata": {},
   "outputs": [],
   "source": []
  }
 ],
 "metadata": {
  "kernelspec": {
   "display_name": "Python 3",
   "language": "python",
   "name": "python3"
  },
  "language_info": {
   "codemirror_mode": {
    "name": "ipython",
    "version": 3
   },
   "file_extension": ".py",
   "mimetype": "text/x-python",
   "name": "python",
   "nbconvert_exporter": "python",
   "pygments_lexer": "ipython3",
   "version": "3.6.7"
  }
 },
 "nbformat": 4,
 "nbformat_minor": 4
}
