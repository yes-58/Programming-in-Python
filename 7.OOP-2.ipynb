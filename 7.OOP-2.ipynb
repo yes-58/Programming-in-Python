{
 "cells": [
  {
   "cell_type": "markdown",
   "metadata": {},
   "source": [
    "# Inheritance \n",
    "\n",
    "Inheritance allows us to define a class that inherits all the methods and properties from another class.\n",
    "\n",
    "Parent class is the class being inherited from, also called base class.\n",
    "\n",
    "Child class is the class that inherits from another class, also called derived class.\n",
    "\n",
    "Note: Use the pass keyword when you do not want to add any other properties or methods to the class.\n",
    "\n",
    "\n"
   ]
  },
  {
   "cell_type": "markdown",
   "metadata": {},
   "source": [
    "#### Create a Parent Class\n",
    "Create a class named Person, with firstname and lastname properties, and a printname method:\n"
   ]
  },
  {
   "cell_type": "code",
   "execution_count": 1,
   "metadata": {},
   "outputs": [],
   "source": [
    "class Person:\n",
    "    def __init__(self, fname, lname):\n",
    "        self.firstname = fname\n",
    "        self.lastname = lname\n",
    "    def printname(self):\n",
    "        print(self.firstname, self.lastname)"
   ]
  },
  {
   "cell_type": "markdown",
   "metadata": {},
   "source": [
    "#### Create a Child Class\n",
    "To create a class that inherits the functionality from another class, send the parent class as a parameter when creating the child class:"
   ]
  },
  {
   "cell_type": "code",
   "execution_count": 2,
   "metadata": {},
   "outputs": [],
   "source": [
    "class Student(Person):\n",
    "    pass"
   ]
  },
  {
   "cell_type": "markdown",
   "metadata": {},
   "source": [
    "Now the Student class has the same properties and methods as the Person class."
   ]
  },
  {
   "cell_type": "markdown",
   "metadata": {},
   "source": [
    "#### Add the __init__() Function\n",
    "We want to add the __init__() function to the child class (instead of the pass keyword).\n",
    "##### Note: The __init__() function is called automatically every time the class is being used to create a new object.\n"
   ]
  },
  {
   "cell_type": "code",
   "execution_count": 3,
   "metadata": {},
   "outputs": [
    {
     "ename": "SyntaxError",
     "evalue": "unexpected EOF while parsing (<ipython-input-3-7a6a3bff0817>, line 2)",
     "output_type": "error",
     "traceback": [
      "\u001b[1;36m  File \u001b[1;32m\"<ipython-input-3-7a6a3bff0817>\"\u001b[1;36m, line \u001b[1;32m2\u001b[0m\n\u001b[1;33m    def __init__(self, fname, lname):\u001b[0m\n\u001b[1;37m                                     ^\u001b[0m\n\u001b[1;31mSyntaxError\u001b[0m\u001b[1;31m:\u001b[0m unexpected EOF while parsing\n"
     ]
    }
   ],
   "source": [
    "class Student(Person):\n",
    "    def __init__(self, fname, lname):\n",
    "        \n"
   ]
  },
  {
   "cell_type": "markdown",
   "metadata": {},
   "source": [
    "##### Note: The child's __init__() function overrides the inheritance of the parent's __init__() function."
   ]
  },
  {
   "cell_type": "code",
   "execution_count": 4,
   "metadata": {},
   "outputs": [],
   "source": [
    "class Student(Person):\n",
    "    def __init__(self, fname, lname):\n",
    "        Person.__init__(self, fname, lname)"
   ]
  },
  {
   "cell_type": "markdown",
   "metadata": {},
   "source": [
    "#### Use the super() Function\n",
    "Super() is also used in the child class to inherit all the methods and properties from its parent."
   ]
  },
  {
   "cell_type": "code",
   "execution_count": 5,
   "metadata": {},
   "outputs": [],
   "source": [
    "class Student(Person):\n",
    "    def __init__(self, fname, lname):\n",
    "        super().__init__(fname, lname)"
   ]
  },
  {
   "cell_type": "code",
   "execution_count": null,
   "metadata": {},
   "outputs": [],
   "source": []
  },
  {
   "cell_type": "code",
   "execution_count": null,
   "metadata": {},
   "outputs": [],
   "source": []
  },
  {
   "cell_type": "markdown",
   "metadata": {},
   "source": [
    "### 2.Basics of Inheritance Examples"
   ]
  },
  {
   "cell_type": "markdown",
   "metadata": {},
   "source": [
    "#### super() is used to call the parent class"
   ]
  },
  {
   "cell_type": "code",
   "execution_count": 6,
   "metadata": {},
   "outputs": [
    {
     "name": "stdout",
     "output_type": "stream",
     "text": [
      "Color :  red\n",
      "MaxSpeed : 15\n",
      "NumGears : 5\n",
      "IsConvertible : False\n"
     ]
    }
   ],
   "source": [
    "class Vehicle:\n",
    "    \n",
    "    def __init__(self, color, maxSpeed):\n",
    "        self.color = color\n",
    "        self.maxSpeed = maxSpeed\n",
    "\n",
    "class Car(Vehicle):\n",
    "    \n",
    "    def __init__(self, color, maxSpeed, numGears, isConvertible):\n",
    "        \n",
    "        super().__init__(color, maxSpeed)                        #Inheriting from vehicle class  \n",
    "        \n",
    "        self.numGears = numGears                                 #Passing via arguments in car class\n",
    "        self.isConvertible = isConvertible \n",
    "        \n",
    "    def printCar(self):\n",
    "        \n",
    "        print(\"Color : \",self.color)\n",
    "        print(\"MaxSpeed :\", self.maxSpeed)\n",
    "        print(\"NumGears :\", self.numGears)\n",
    "        print(\"IsConvertible :\", self.isConvertible)\n",
    "        \n",
    "c = Car(\"red\", 15, 5, False)\n",
    "c.printCar()"
   ]
  },
  {
   "cell_type": "markdown",
   "metadata": {},
   "source": [
    "#### Vehicle is the parent class and Car is the base class.\n",
    "Use super() to access the parent class properties and methods in base class."
   ]
  },
  {
   "cell_type": "code",
   "execution_count": 7,
   "metadata": {},
   "outputs": [
    {
     "ename": "AttributeError",
     "evalue": "'Car' object has no attribute 'color'",
     "output_type": "error",
     "traceback": [
      "\u001b[1;31m----------------------------------------\u001b[0m",
      "\u001b[1;31mAttributeError\u001b[0mTraceback (most recent call last)",
      "\u001b[1;32m<ipython-input-7-f35ce08066f1>\u001b[0m in \u001b[0;36m<module>\u001b[1;34m\u001b[0m\n\u001b[0;32m     12\u001b[0m \u001b[1;33m\u001b[0m\u001b[0m\n\u001b[0;32m     13\u001b[0m \u001b[0mc\u001b[0m\u001b[1;33m=\u001b[0m \u001b[0mCar\u001b[0m\u001b[1;33m(\u001b[0m\u001b[1;34m\"black\"\u001b[0m\u001b[1;33m,\u001b[0m\u001b[1;36m5\u001b[0m\u001b[1;33m)\u001b[0m\u001b[1;33m\u001b[0m\u001b[1;33m\u001b[0m\u001b[0m\n\u001b[1;32m---> 14\u001b[1;33m \u001b[0mprint\u001b[0m\u001b[1;33m(\u001b[0m\u001b[0mc\u001b[0m\u001b[1;33m.\u001b[0m\u001b[0mcolor\u001b[0m\u001b[1;33m)\u001b[0m\u001b[1;33m\u001b[0m\u001b[1;33m\u001b[0m\u001b[0m\n\u001b[0m",
      "\u001b[1;31mAttributeError\u001b[0m: 'Car' object has no attribute 'color'"
     ]
    }
   ],
   "source": [
    "#Predict the output\n",
    "class Vehicle:\n",
    "    \n",
    "     def __init__(self,color):\n",
    "         self.color = color\n",
    "    \n",
    "    \n",
    "class Car(Vehicle):\n",
    "    \n",
    "     def __init__(self,color,numGears):\n",
    "         self.numGears = numGears\n",
    "        \n",
    "c= Car(\"black\",5)\n",
    "print(c.color)"
   ]
  },
  {
   "cell_type": "markdown",
   "metadata": {},
   "source": [
    "** Here in the above example, we haven't used the super() to access the Vehicle class properties and methods so it's throwing an error. And in the below example, we have used the super() to access the methods and properties of Vehicle class so it's giving us the answer."
   ]
  },
  {
   "cell_type": "code",
   "execution_count": 8,
   "metadata": {},
   "outputs": [
    {
     "name": "stdout",
     "output_type": "stream",
     "text": [
      "black\n"
     ]
    }
   ],
   "source": [
    "#Predict the output\n",
    "class Vehicle:\n",
    "    \n",
    "    def __init__(self,color):\n",
    "        self.color = color\n",
    "    \n",
    "    \n",
    "class Car(Vehicle):\n",
    "    \n",
    "    def __init__(self,color,numGears):\n",
    "        super().__init__(color)\n",
    "        self.numGears = numGears\n",
    "        \n",
    "c= Car(\"black\",5)\n",
    "print(c.color)"
   ]
  },
  {
   "cell_type": "code",
   "execution_count": null,
   "metadata": {},
   "outputs": [],
   "source": []
  },
  {
   "cell_type": "code",
   "execution_count": null,
   "metadata": {},
   "outputs": [],
   "source": []
  },
  {
   "cell_type": "markdown",
   "metadata": {},
   "source": [
    "### 3.Inheritance and Private Members"
   ]
  },
  {
   "cell_type": "code",
   "execution_count": 9,
   "metadata": {},
   "outputs": [
    {
     "name": "stdout",
     "output_type": "stream",
     "text": [
      "Color :  red\n"
     ]
    },
    {
     "ename": "AttributeError",
     "evalue": "'Car' object has no attribute 'maxSpeed'",
     "output_type": "error",
     "traceback": [
      "\u001b[1;31m----------------------------------------\u001b[0m",
      "\u001b[1;31mAttributeError\u001b[0mTraceback (most recent call last)",
      "\u001b[1;32m<ipython-input-9-de61ba212aca>\u001b[0m in \u001b[0;36m<module>\u001b[1;34m\u001b[0m\n\u001b[0;32m     22\u001b[0m \u001b[1;33m\u001b[0m\u001b[0m\n\u001b[0;32m     23\u001b[0m \u001b[0mc\u001b[0m \u001b[1;33m=\u001b[0m \u001b[0mCar\u001b[0m\u001b[1;33m(\u001b[0m\u001b[1;34m\"red\"\u001b[0m\u001b[1;33m,\u001b[0m \u001b[1;36m15\u001b[0m\u001b[1;33m,\u001b[0m \u001b[1;36m5\u001b[0m\u001b[1;33m,\u001b[0m \u001b[1;32mFalse\u001b[0m\u001b[1;33m)\u001b[0m\u001b[1;33m\u001b[0m\u001b[1;33m\u001b[0m\u001b[0m\n\u001b[1;32m---> 24\u001b[1;33m \u001b[0mc\u001b[0m\u001b[1;33m.\u001b[0m\u001b[0mprintCar\u001b[0m\u001b[1;33m(\u001b[0m\u001b[1;33m)\u001b[0m\u001b[1;33m\u001b[0m\u001b[1;33m\u001b[0m\u001b[0m\n\u001b[0m",
      "\u001b[1;32m<ipython-input-9-de61ba212aca>\u001b[0m in \u001b[0;36mprintCar\u001b[1;34m(self)\u001b[0m\n\u001b[0;32m     17\u001b[0m \u001b[1;33m\u001b[0m\u001b[0m\n\u001b[0;32m     18\u001b[0m         \u001b[0mprint\u001b[0m\u001b[1;33m(\u001b[0m\u001b[1;34m\"Color : \"\u001b[0m\u001b[1;33m,\u001b[0m\u001b[0mself\u001b[0m\u001b[1;33m.\u001b[0m\u001b[0mcolor\u001b[0m\u001b[1;33m)\u001b[0m\u001b[1;33m\u001b[0m\u001b[1;33m\u001b[0m\u001b[0m\n\u001b[1;32m---> 19\u001b[1;33m         \u001b[0mprint\u001b[0m\u001b[1;33m(\u001b[0m\u001b[1;34m\"MaxSpeed :\"\u001b[0m\u001b[1;33m,\u001b[0m \u001b[0mself\u001b[0m\u001b[1;33m.\u001b[0m\u001b[0mmaxSpeed\u001b[0m\u001b[1;33m)\u001b[0m\u001b[1;33m\u001b[0m\u001b[1;33m\u001b[0m\u001b[0m\n\u001b[0m\u001b[0;32m     20\u001b[0m         \u001b[0mprint\u001b[0m\u001b[1;33m(\u001b[0m\u001b[1;34m\"NumGears :\"\u001b[0m\u001b[1;33m,\u001b[0m \u001b[0mself\u001b[0m\u001b[1;33m.\u001b[0m\u001b[0mnumGears\u001b[0m\u001b[1;33m)\u001b[0m\u001b[1;33m\u001b[0m\u001b[1;33m\u001b[0m\u001b[0m\n\u001b[0;32m     21\u001b[0m         \u001b[0mprint\u001b[0m\u001b[1;33m(\u001b[0m\u001b[1;34m\"IsConvertible :\"\u001b[0m\u001b[1;33m,\u001b[0m \u001b[0mself\u001b[0m\u001b[1;33m.\u001b[0m\u001b[0misConvertible\u001b[0m\u001b[1;33m)\u001b[0m\u001b[1;33m\u001b[0m\u001b[1;33m\u001b[0m\u001b[0m\n",
      "\u001b[1;31mAttributeError\u001b[0m: 'Car' object has no attribute 'maxSpeed'"
     ]
    }
   ],
   "source": [
    "class Vehicle:\n",
    "    \n",
    "    def __init__(self, color, maxSpeed):\n",
    "        self.color = color\n",
    "        self.__maxSpeed = maxSpeed      #Here we make maxSpeed as private variable so it cannot \n",
    "                                        #accessed outside the class.\n",
    "\n",
    "class Car(Vehicle):\n",
    "    \n",
    "    def __init__(self, color, maxSpeed, numGears, isConvertible):\n",
    "        \n",
    "        super().__init__(color, maxSpeed)                        #Inheriting from vehicle class  \n",
    "        \n",
    "        self.numGears = numGears                                 #Passing via arguments in car class\n",
    "        self.isConvertible = isConvertible \n",
    "        \n",
    "    def printCar(self):\n",
    "        \n",
    "        print(\"Color : \",self.color)\n",
    "        print(\"MaxSpeed :\", self.maxSpeed)\n",
    "        print(\"NumGears :\", self.numGears)\n",
    "        print(\"IsConvertible :\", self.isConvertible)\n",
    "        \n",
    "c = Car(\"red\", 15, 5, False)\n",
    "c.printCar()"
   ]
  },
  {
   "cell_type": "code",
   "execution_count": 13,
   "metadata": {},
   "outputs": [
    {
     "name": "stdout",
     "output_type": "stream",
     "text": [
      "Color :  red\n",
      "MaxSpeed : 15\n",
      "NumGears : 5\n",
      "IsConvertible : False\n"
     ]
    }
   ],
   "source": [
    "class Vehicle:\n",
    "    \n",
    "    def __init__(self, color, maxSpeed):\n",
    "        self.color = color\n",
    "        self.__maxSpeed = maxSpeed      #Here we make maxSpeed as private variable so it cannot \n",
    "                                        #accessed outside the class.\n",
    "    def getmaxSpeed(self):    #Getter method for accessing private variable maxSpeed.\n",
    "        return self.__maxSpeed\n",
    "    \n",
    "    def setmaxSpeed(self,maxSpeed):   #Setter method for setting private method value.\n",
    "        self.__maxSpeed=maxSpeed\n",
    "\n",
    "class Car(Vehicle):\n",
    "    \n",
    "    def __init__(self, color, maxSpeed, numGears, isConvertible):\n",
    "        \n",
    "        super().__init__(color, maxSpeed)                        #Inheriting from vehicle class  \n",
    "        \n",
    "        self.numGears = numGears                                 #Passing via arguments in car class\n",
    "        self.isConvertible = isConvertible \n",
    "        \n",
    "    def printCar(self):\n",
    "        \n",
    "        print(\"Color : \",self.color)\n",
    "        print(\"MaxSpeed :\", self.getmaxSpeed())  #Accesing private varible using public function.\n",
    "        print(\"NumGears :\", self.numGears)\n",
    "        print(\"IsConvertible :\", self.isConvertible)\n",
    "        \n",
    "c = Car(\"red\", 15, 5, False)\n",
    "c.printCar()"
   ]
  },
  {
   "cell_type": "code",
   "execution_count": null,
   "metadata": {},
   "outputs": [],
   "source": []
  },
  {
   "cell_type": "markdown",
   "metadata": {},
   "source": [
    "### 4.Inheritance Continue"
   ]
  },
  {
   "cell_type": "markdown",
   "metadata": {},
   "source": [
    "#### Parent class and sub class have a same method with same number of arguments and when you call that method from sub class then which method will be called?¶"
   ]
  },
  {
   "cell_type": "code",
   "execution_count": 23,
   "metadata": {},
   "outputs": [
    {
     "name": "stdout",
     "output_type": "stream",
     "text": [
      "NumGears : 5\n",
      "IsConvertible : False\n"
     ]
    }
   ],
   "source": [
    "class Vehicle:\n",
    "    \n",
    "    def __init__(self, color, maxSpeed):\n",
    "        self.color = color\n",
    "        self.__maxSpeed = maxSpeed    #Making maxSpeed as private using '__' before the memeber\n",
    "    \n",
    "    def getMaxSpeed(self):            #get method is a public function\n",
    "        return self.__maxSpeed\n",
    "    \n",
    "    def setMaxSpeed(self, maxSpeed):  #set method is a public function\n",
    "        self.__maxSpeed = maxSpeed\n",
    "        \n",
    "    def print(self):                            #Another way of accessing printing private members --> printing within a class\n",
    "        print(\"Color : \",self.color)\n",
    "        print(\"MaxSpeed :\", self.__maxSpeed)\n",
    "\n",
    "class Car(Vehicle):\n",
    "    \n",
    "    def __init__(self, color, maxSpeed, numGears, isConvertible):\n",
    "        \n",
    "        super().__init__(color, maxSpeed) #Inheriting from vehicle class       \n",
    "        self.numGears = numGears          #Passing via arguments in car class\n",
    "        self.isConvertible = isConvertible \n",
    "        \n",
    "    def print(self):\n",
    "        print(\"NumGears :\", self.numGears)\n",
    "        print(\"IsConvertible :\", self.isConvertible)\n",
    "        \n",
    "c = Car(\"red\", 35, 5, False)\n",
    "c.print()   #Car print() is printed"
   ]
  },
  {
   "cell_type": "markdown",
   "metadata": {},
   "source": [
    "* Eventhough the print() is available in both Vehicle and Car class, print() of Car (derived class) got executed because it's called from derived class"
   ]
  },
  {
   "cell_type": "markdown",
   "metadata": {},
   "source": [
    "#### Ans) First it checks the child class in which the print() is called if it's not there then the control goes to its parent class if it's not there then the control goes to it's parent class and so on and so forth."
   ]
  },
  {
   "cell_type": "code",
   "execution_count": 25,
   "metadata": {},
   "outputs": [
    {
     "name": "stdout",
     "output_type": "stream",
     "text": [
      "Color :  red\n",
      "MaxSpeed : 35\n"
     ]
    }
   ],
   "source": [
    "class Vehicle:\n",
    "    \n",
    "    def __init__(self, color, maxSpeed):\n",
    "        self.color = color\n",
    "        self.__maxSpeed = maxSpeed    #Making maxSpeed as private using '__' before the memeber\n",
    "    \n",
    "    def getMaxSpeed(self):            #get method is a public function\n",
    "        return self.__maxSpeed\n",
    "    \n",
    "    def setMaxSpeed(self, maxSpeed):  #set method is a public function\n",
    "        self.__maxSpeed = maxSpeed\n",
    "        \n",
    "    def print(self):                            #Another way of accessing printing private members --> printing within a class\n",
    "        print(\"Color : \",self.color)\n",
    "        print(\"MaxSpeed :\", self.__maxSpeed)\n",
    "\n",
    "class Car(Vehicle):\n",
    "    \n",
    "    def __init__(self, color, maxSpeed, numGears, isConvertible):\n",
    "        \n",
    "        super().__init__(color, maxSpeed) #Inheriting from vehicle class       \n",
    "        self.numGears = numGears          #Passing via arguments in car class\n",
    "        self.isConvertible = isConvertible \n",
    "        \n",
    "       \n",
    "c = Car(\"red\", 35, 5, False)\n",
    "c.print()   #Car print() is printed"
   ]
  },
  {
   "cell_type": "markdown",
   "metadata": {},
   "source": [
    "* Here in the above example there is no print() in derived class so the control goes to its parent class and the print() got executed"
   ]
  },
  {
   "cell_type": "markdown",
   "metadata": {},
   "source": [
    "### 5.Polymorphism : Ability to take multiple forms.\n",
    "One in many forms is nothing but polymorphism"
   ]
  },
  {
   "cell_type": "markdown",
   "metadata": {},
   "source": [
    "#### Method Overriding\n",
    "* Method with same name in both parent class and child class.\n",
    "* To call the method of parent class(having same name in child class) we have to use super()."
   ]
  },
  {
   "cell_type": "code",
   "execution_count": 26,
   "metadata": {},
   "outputs": [
    {
     "name": "stdout",
     "output_type": "stream",
     "text": [
      "NumGears : 5\n",
      "IsConvertible : False\n"
     ]
    }
   ],
   "source": [
    "class Vehicle:\n",
    "    \n",
    "    def __init__(self, color, maxSpeed):\n",
    "        self.color = color\n",
    "        self.__maxSpeed = maxSpeed      \n",
    "                                        \n",
    "    def printinf(self):\n",
    "        print(\"Color : \",self.color)\n",
    "        print(\"MaxSpeed :\", self.__maxSpeed)\n",
    "\n",
    "class Car(Vehicle):\n",
    "    \n",
    "    def __init__(self, color, maxSpeed, numGears, isConvertible):\n",
    "        \n",
    "        super().__init__(color, maxSpeed)                        #Inheriting from vehicle class  \n",
    "        \n",
    "        self.numGears = numGears                                 #Passing via arguments in car class\n",
    "        self.isConvertible = isConvertible \n",
    "        \n",
    "    def printinf(self):\n",
    "        #super().printinf();     \n",
    "        print(\"NumGears :\", self.numGears)\n",
    "        print(\"IsConvertible :\", self.isConvertible)\n",
    "        \n",
    "c = Car(\"red\", 15, 5, False)\n",
    "c.printinf()  #Here printinf() of child class is called at runtime.  #Runtime Polymorphism..."
   ]
  },
  {
   "cell_type": "markdown",
   "metadata": {},
   "source": [
    "* Here the vehicle and car class has the same method name with same arguments (so called) ---> Method Overloading (in programming) So, c.print() first searches in the car class if print() is present then it prints else it goes to its parent class (Vehicle class in the below example). As we removed the print() from class Car then the control goes to the print() of Vehicle class (parent class). Suppose if the print() is not available in the parent class then the control goes to its parent class and so on till it reaches the print()\n",
    "\n"
   ]
  },
  {
   "cell_type": "code",
   "execution_count": 28,
   "metadata": {},
   "outputs": [
    {
     "name": "stdout",
     "output_type": "stream",
     "text": [
      "Color :  red\n",
      "MaxSpeed : 35\n"
     ]
    }
   ],
   "source": [
    "class Vehicle:\n",
    "    \n",
    "    def __init__(self, color, maxSpeed):\n",
    "        self.color = color\n",
    "        self.__maxSpeed = maxSpeed    #Making maxSpeed as private using '__' before the memeber\n",
    "    \n",
    "    def getMaxSpeed(self):            #get method is a public function\n",
    "        return self.__maxSpeed\n",
    "    \n",
    "    def setMaxSpeed(self, maxSpeed):  #set method is a public function\n",
    "        self.__maxSpeed = maxSpeed\n",
    "        \n",
    "    def print(self):                            #Another way of accessing printing private members --> printing within a class\n",
    "        print(\"Color : \",self.color)\n",
    "        print(\"MaxSpeed :\", self.__maxSpeed)\n",
    "\n",
    "class Car(Vehicle):\n",
    "    \n",
    "    def __init__(self, color, maxSpeed, numGears, isConvertible):\n",
    "        \n",
    "        super().__init__(color, maxSpeed) #Inheriting from vehicle class       \n",
    "        self.numGears = numGears          #Passing via arguments in car class\n",
    "        self.isConvertible = isConvertible \n",
    "        \n",
    "#     def printCar(self):\n",
    "#         #super().print()             #Instead of super() you can also use self.print() beause a car inherits all properties and methods from parent class\n",
    "#         self.print()                 #Here there is only one print() and we can use self or super in this example.\n",
    "#         print(\"NumGears :\", self.numGears)\n",
    "#         print(\"IsConvertible :\", self.isConvertible)\n",
    "        \n",
    "c = Car(\"red\", 35, 5, False)\n",
    "c.print()"
   ]
  },
  {
   "cell_type": "code",
   "execution_count": 29,
   "metadata": {},
   "outputs": [
    {
     "ename": "AttributeError",
     "evalue": "'Car' object has no attribute 'print'",
     "output_type": "error",
     "traceback": [
      "\u001b[1;31m----------------------------------------\u001b[0m",
      "\u001b[1;31mAttributeError\u001b[0mTraceback (most recent call last)",
      "\u001b[1;32m<ipython-input-29-d9cad5591008>\u001b[0m in \u001b[0;36m<module>\u001b[1;34m\u001b[0m\n\u001b[0;32m     30\u001b[0m \u001b[1;33m\u001b[0m\u001b[0m\n\u001b[0;32m     31\u001b[0m \u001b[0mc\u001b[0m \u001b[1;33m=\u001b[0m \u001b[0mCar\u001b[0m\u001b[1;33m(\u001b[0m\u001b[1;34m\"red\"\u001b[0m\u001b[1;33m,\u001b[0m \u001b[1;36m35\u001b[0m\u001b[1;33m,\u001b[0m \u001b[1;36m5\u001b[0m\u001b[1;33m,\u001b[0m \u001b[1;32mFalse\u001b[0m\u001b[1;33m)\u001b[0m\u001b[1;33m\u001b[0m\u001b[1;33m\u001b[0m\u001b[0m\n\u001b[1;32m---> 32\u001b[1;33m \u001b[0mc\u001b[0m\u001b[1;33m.\u001b[0m\u001b[0mprint\u001b[0m\u001b[1;33m(\u001b[0m\u001b[1;33m)\u001b[0m\u001b[1;33m\u001b[0m\u001b[1;33m\u001b[0m\u001b[0m\n\u001b[0m",
      "\u001b[1;31mAttributeError\u001b[0m: 'Car' object has no attribute 'print'"
     ]
    }
   ],
   "source": [
    "class Vehicle:\n",
    "    \n",
    "    def __init__(self, color, maxSpeed):\n",
    "        self.color = color\n",
    "        self.__maxSpeed = maxSpeed    #Making maxSpeed as private using '__' before the memeber\n",
    "    \n",
    "    def getMaxSpeed(self):            #get method is a public function\n",
    "        return self.__maxSpeed\n",
    "    \n",
    "    def setMaxSpeed(self, maxSpeed):  #set method is a public function\n",
    "        self.__maxSpeed = maxSpeed\n",
    "        \n",
    "#     def print(self):                            #Another way of accessing printing private members --> printing within a class\n",
    "#         print(\"Color : \",self.color)\n",
    "#         print(\"MaxSpeed :\", self.__maxSpeed)\n",
    "\n",
    "class Car(Vehicle):\n",
    "    \n",
    "    def __init__(self, color, maxSpeed, numGears, isConvertible):\n",
    "        \n",
    "        super().__init__(color, maxSpeed) #Inheriting from vehicle class       \n",
    "        self.numGears = numGears          #Passing via arguments in car class\n",
    "        self.isConvertible = isConvertible \n",
    "        \n",
    "#     def printCar(self):\n",
    "#         #super().print()             #Instead of super() you can also use self.print() beause a car inherits all properties and methods from parent class\n",
    "#         self.print()                 #Here there is only one print() and we can use self or super in this example.\n",
    "#         print(\"NumGears :\", self.numGears)\n",
    "#         print(\"IsConvertible :\", self.isConvertible)\n",
    "        \n",
    "c = Car(\"red\", 35, 5, False)\n",
    "c.print()\n"
   ]
  },
  {
   "cell_type": "markdown",
   "metadata": {},
   "source": [
    "In the above example, there is no print in the entire program so ERROR"
   ]
  },
  {
   "cell_type": "code",
   "execution_count": 32,
   "metadata": {},
   "outputs": [
    {
     "name": "stdout",
     "output_type": "stream",
     "text": [
      "Color :  red\n",
      "MaxSpeed : 35\n",
      "NumGears : 5\n",
      "IsConvertible : False\n",
      "_____________________________\n",
      "Color :  green\n",
      "MaxSpeed : 98\n"
     ]
    }
   ],
   "source": [
    "class Vehicle:\n",
    "    \n",
    "    def __init__(self, color, maxSpeed):\n",
    "        self.color = color\n",
    "        self.__maxSpeed = maxSpeed    #Making maxSpeed as private using '__' before the memeber\n",
    "    \n",
    "    def getMaxSpeed(self):            #get method is a public function\n",
    "        return self.__maxSpeed\n",
    "    \n",
    "    def setMaxSpeed(self, maxSpeed):  #set method is a public function\n",
    "        self.__maxSpeed = maxSpeed\n",
    "        \n",
    "    def print(self):                            #Another way of accessing printing private members --> printing within a class\n",
    "        print(\"Color : \",self.color)\n",
    "        print(\"MaxSpeed :\", self.__maxSpeed)\n",
    "\n",
    "class Car(Vehicle):\n",
    "    \n",
    "    def __init__(self, color, maxSpeed, numGears, isConvertible):\n",
    "        \n",
    "        super().__init__(color, maxSpeed) #Inheriting from vehicle class       \n",
    "        self.numGears = numGears          #Passing via arguments in car class\n",
    "        self.isConvertible = isConvertible \n",
    "        \n",
    "    def print(self): \n",
    "        super().print()                 #Here there is only one print() and we can use self or super in this example.\n",
    "        print(\"NumGears :\", self.numGears)\n",
    "        print(\"IsConvertible :\", self.isConvertible)\n",
    "        \n",
    "c = Car(\"red\", 35, 5, False)\n",
    "c.print()\n",
    "\n",
    "print(\"_____________________________\")\n",
    "\n",
    "v = Vehicle(\"green\", 98)\n",
    "v.print()"
   ]
  },
  {
   "cell_type": "code",
   "execution_count": 19,
   "metadata": {},
   "outputs": [
    {
     "name": "stdout",
     "output_type": "stream",
     "text": [
      "Color :  red\n",
      "MaxSpeed : 15\n",
      "NumGears : 5\n",
      "IsConvertible : False\n"
     ]
    }
   ],
   "source": [
    "class Vehicle:\n",
    "    \n",
    "    def __init__(self, color, maxSpeed):\n",
    "        self.color = color\n",
    "        self.__maxSpeed = maxSpeed      \n",
    "                                        \n",
    "    def printinf(self):\n",
    "        print(\"Color : \",self.color)\n",
    "        print(\"MaxSpeed :\", self.__maxSpeed)\n",
    "\n",
    "class Car(Vehicle):\n",
    "    \n",
    "    def __init__(self, color, maxSpeed, numGears, isConvertible):\n",
    "        \n",
    "        super().__init__(color, maxSpeed)                        #Inheriting from vehicle class  \n",
    "        \n",
    "        self.numGears = numGears                                 #Passing via arguments in car class\n",
    "        self.isConvertible = isConvertible \n",
    "        \n",
    "    def printinf(self):\n",
    "        super().printinf();      #To call printinf() of parent class we have to use super().\n",
    "        print(\"NumGears :\", self.numGears)\n",
    "        print(\"IsConvertible :\", self.isConvertible)\n",
    "        \n",
    "c = Car(\"red\", 15, 5, False)\n",
    "c.printinf()  "
   ]
  },
  {
   "cell_type": "code",
   "execution_count": 33,
   "metadata": {},
   "outputs": [
    {
     "name": "stdout",
     "output_type": "stream",
     "text": [
      "red black "
     ]
    }
   ],
   "source": [
    "#Predict the Output:\n",
    "class Vehicle:\n",
    "    def __init__(self,color):\n",
    "        self.color = color\n",
    "    def print(self):\n",
    "        print(c.color,end=\" \")\n",
    "class Car(Vehicle):\n",
    "    def __init__(self,color,numGears):\n",
    "        super().__init__(color)\n",
    "        self.numGears = numGears\n",
    "    def print(self):\n",
    "       print(c.color,end=\" \")\n",
    "    print(c.numGears)\n",
    "c = Car(\"black\",5)\n",
    "c.print()"
   ]
  },
  {
   "cell_type": "code",
   "execution_count": 34,
   "metadata": {},
   "outputs": [
    {
     "ename": "RecursionError",
     "evalue": "maximum recursion depth exceeded",
     "output_type": "error",
     "traceback": [
      "\u001b[1;31m----------------------------------------\u001b[0m",
      "\u001b[1;31mRecursionError\u001b[0mTraceback (most recent call last)",
      "\u001b[1;32m<ipython-input-34-e9b8c163ed57>\u001b[0m in \u001b[0;36m<module>\u001b[1;34m\u001b[0m\n\u001b[0;32m     13\u001b[0m         \u001b[0mprint\u001b[0m\u001b[1;33m(\u001b[0m\u001b[0mc\u001b[0m\u001b[1;33m.\u001b[0m\u001b[0mnumGears\u001b[0m\u001b[1;33m)\u001b[0m\u001b[1;33m\u001b[0m\u001b[1;33m\u001b[0m\u001b[0m\n\u001b[0;32m     14\u001b[0m \u001b[0mc\u001b[0m \u001b[1;33m=\u001b[0m \u001b[0mCar\u001b[0m\u001b[1;33m(\u001b[0m\u001b[1;34m\"black\"\u001b[0m\u001b[1;33m,\u001b[0m\u001b[1;36m5\u001b[0m\u001b[1;33m)\u001b[0m\u001b[1;33m\u001b[0m\u001b[1;33m\u001b[0m\u001b[0m\n\u001b[1;32m---> 15\u001b[1;33m \u001b[0mc\u001b[0m\u001b[1;33m.\u001b[0m\u001b[0mprint\u001b[0m\u001b[1;33m(\u001b[0m\u001b[1;33m)\u001b[0m\u001b[1;33m\u001b[0m\u001b[1;33m\u001b[0m\u001b[0m\n\u001b[0m",
      "\u001b[1;32m<ipython-input-34-e9b8c163ed57>\u001b[0m in \u001b[0;36mprint\u001b[1;34m(self)\u001b[0m\n\u001b[0;32m     10\u001b[0m         \u001b[0mself\u001b[0m\u001b[1;33m.\u001b[0m\u001b[0mnumGears\u001b[0m \u001b[1;33m=\u001b[0m \u001b[0mnumGears\u001b[0m\u001b[1;33m\u001b[0m\u001b[1;33m\u001b[0m\u001b[0m\n\u001b[0;32m     11\u001b[0m     \u001b[1;32mdef\u001b[0m \u001b[0mprint\u001b[0m\u001b[1;33m(\u001b[0m\u001b[0mself\u001b[0m\u001b[1;33m)\u001b[0m\u001b[1;33m:\u001b[0m\u001b[1;33m\u001b[0m\u001b[1;33m\u001b[0m\u001b[0m\n\u001b[1;32m---> 12\u001b[1;33m         \u001b[0mself\u001b[0m\u001b[1;33m.\u001b[0m\u001b[0mprint\u001b[0m\u001b[1;33m(\u001b[0m\u001b[1;33m)\u001b[0m\u001b[1;33m\u001b[0m\u001b[1;33m\u001b[0m\u001b[0m\n\u001b[0m\u001b[0;32m     13\u001b[0m         \u001b[0mprint\u001b[0m\u001b[1;33m(\u001b[0m\u001b[0mc\u001b[0m\u001b[1;33m.\u001b[0m\u001b[0mnumGears\u001b[0m\u001b[1;33m)\u001b[0m\u001b[1;33m\u001b[0m\u001b[1;33m\u001b[0m\u001b[0m\n\u001b[0;32m     14\u001b[0m \u001b[0mc\u001b[0m \u001b[1;33m=\u001b[0m \u001b[0mCar\u001b[0m\u001b[1;33m(\u001b[0m\u001b[1;34m\"black\"\u001b[0m\u001b[1;33m,\u001b[0m\u001b[1;36m5\u001b[0m\u001b[1;33m)\u001b[0m\u001b[1;33m\u001b[0m\u001b[1;33m\u001b[0m\u001b[0m\n",
      "... last 1 frames repeated, from the frame below ...\n",
      "\u001b[1;32m<ipython-input-34-e9b8c163ed57>\u001b[0m in \u001b[0;36mprint\u001b[1;34m(self)\u001b[0m\n\u001b[0;32m     10\u001b[0m         \u001b[0mself\u001b[0m\u001b[1;33m.\u001b[0m\u001b[0mnumGears\u001b[0m \u001b[1;33m=\u001b[0m \u001b[0mnumGears\u001b[0m\u001b[1;33m\u001b[0m\u001b[1;33m\u001b[0m\u001b[0m\n\u001b[0;32m     11\u001b[0m     \u001b[1;32mdef\u001b[0m \u001b[0mprint\u001b[0m\u001b[1;33m(\u001b[0m\u001b[0mself\u001b[0m\u001b[1;33m)\u001b[0m\u001b[1;33m:\u001b[0m\u001b[1;33m\u001b[0m\u001b[1;33m\u001b[0m\u001b[0m\n\u001b[1;32m---> 12\u001b[1;33m         \u001b[0mself\u001b[0m\u001b[1;33m.\u001b[0m\u001b[0mprint\u001b[0m\u001b[1;33m(\u001b[0m\u001b[1;33m)\u001b[0m\u001b[1;33m\u001b[0m\u001b[1;33m\u001b[0m\u001b[0m\n\u001b[0m\u001b[0;32m     13\u001b[0m         \u001b[0mprint\u001b[0m\u001b[1;33m(\u001b[0m\u001b[0mc\u001b[0m\u001b[1;33m.\u001b[0m\u001b[0mnumGears\u001b[0m\u001b[1;33m)\u001b[0m\u001b[1;33m\u001b[0m\u001b[1;33m\u001b[0m\u001b[0m\n\u001b[0;32m     14\u001b[0m \u001b[0mc\u001b[0m \u001b[1;33m=\u001b[0m \u001b[0mCar\u001b[0m\u001b[1;33m(\u001b[0m\u001b[1;34m\"black\"\u001b[0m\u001b[1;33m,\u001b[0m\u001b[1;36m5\u001b[0m\u001b[1;33m)\u001b[0m\u001b[1;33m\u001b[0m\u001b[1;33m\u001b[0m\u001b[0m\n",
      "\u001b[1;31mRecursionError\u001b[0m: maximum recursion depth exceeded"
     ]
    }
   ],
   "source": [
    "#Predict the Output:\n",
    "class Vehicle:\n",
    "    def __init__(self,color):\n",
    "        self.color = color\n",
    "    def print(self):\n",
    "        print(c.color,end=\" \")\n",
    "class Car(Vehicle):\n",
    "    def __init__(self,color,numGears):\n",
    "        super().__init__(color)\n",
    "        self.numGears = numGears\n",
    "    def print(self):\n",
    "        self.print()\n",
    "        print(c.numGears)\n",
    "c = Car(\"black\",5)\n",
    "c.print()"
   ]
  },
  {
   "cell_type": "code",
   "execution_count": null,
   "metadata": {},
   "outputs": [],
   "source": []
  },
  {
   "cell_type": "markdown",
   "metadata": {},
   "source": [
    "### 6.Protected Members"
   ]
  },
  {
   "cell_type": "markdown",
   "metadata": {},
   "source": [
    "#### Protected Members:\n",
    "\n",
    "There is no difference between public and protected members in Python. Just it is used for our understanding and it's a very bad practice to change the values of protected variables in a sub class. Protected variables are started with '_' (single underscore) [which is for our interpretation only].\n",
    "\n",
    "_ --> Protected variables __ --> Private variables\n",
    "\n",
    "It should be used in the concept of sub classes like Inheritance"
   ]
  },
  {
   "cell_type": "markdown",
   "metadata": {},
   "source": [
    "#### Programmers are Sensible\n",
    "--> Don't try to change the value of protected members in sub classes. You can perform then there will be no difference between public and protected then. It is for our (programmer's) assumption and not for Python compiler."
   ]
  },
  {
   "cell_type": "code",
   "execution_count": 38,
   "metadata": {},
   "outputs": [
    {
     "name": "stdout",
     "output_type": "stream",
     "text": [
      "Color :  red\n",
      "MaxSpeed : 35\n",
      "NumGears : 5\n",
      "IsConvertible : False\n",
      "____________________________\n",
      "Color :  red\n",
      "MaxSpeed : 20\n",
      "NumGears : 5\n",
      "IsConvertible : False\n",
      "_____________________________\n",
      "Color :  green\n",
      "MaxSpeed : 98\n",
      "Color :  green\n",
      "MaxSpeed : 120\n"
     ]
    }
   ],
   "source": [
    "class Vehicle:\n",
    "    \n",
    "    def __init__(self, color, maxSpeed):\n",
    "        self.color = color\n",
    "        self._maxSpeed = maxSpeed    #Making maxSpeed as protected using '_' before the memeber\n",
    "    \n",
    "    def getMaxSpeed(self):            #get method is a public function\n",
    "        return self._maxSpeed\n",
    "    \n",
    "    def setMaxSpeed(self, maxSpeed):  #set method is a public function\n",
    "        self._maxSpeed = maxSpeed\n",
    "        \n",
    "    def print(self):                            #Another way of accessing printing private members --> printing within a class\n",
    "        print(\"Color : \",self.color)\n",
    "        print(\"MaxSpeed :\", self._maxSpeed)\n",
    "\n",
    "class Car(Vehicle):\n",
    "    \n",
    "    def __init__(self, color, maxSpeed, numGears, isConvertible):\n",
    "        \n",
    "        super().__init__(color, maxSpeed) #Inheriting from vehicle class       \n",
    "        self.numGears = numGears          #Passing via arguments in car class\n",
    "        self.isConvertible = isConvertible \n",
    "        \n",
    "    def print(self): \n",
    "        #super().print()                 #Here there is only one print() and we can use self or super in this example.\n",
    "        print(\"Color : \",self.color)\n",
    "        print(\"MaxSpeed :\", self._maxSpeed)\n",
    "        print(\"NumGears :\", self.numGears)\n",
    "        print(\"IsConvertible :\", self.isConvertible)\n",
    "        \n",
    "c = Car(\"red\", 35, 5, False)\n",
    "c.print()\n",
    "\n",
    "print(\"____________________________\")\n",
    "c._maxSpeed=20\n",
    "c.print()\n",
    "\n",
    "print(\"_____________________________\")\n",
    "\n",
    "v = Vehicle(\"green\", 98)\n",
    "v.print()\n",
    "v._maxSpeed = 120            #We can change the speed of a protected member function\n",
    "v.print()"
   ]
  },
  {
   "cell_type": "code",
   "execution_count": null,
   "metadata": {},
   "outputs": [],
   "source": []
  },
  {
   "cell_type": "markdown",
   "metadata": {},
   "source": [
    "### 7.Object Class\n",
    "By default, every class is inherited from Object class.\n",
    "There are 3 methods in object class:\n",
    "\n",
    "1) new --> create new object. Used to override an object\n",
    "\n",
    "2) init --> We use it in every class to initialize an object.\n",
    "\n",
    "3) str --> Used to give the description of a class"
   ]
  },
  {
   "cell_type": "code",
   "execution_count": 39,
   "metadata": {},
   "outputs": [
    {
     "name": "stdout",
     "output_type": "stream",
     "text": [
      "<__main__.Circle object at 0x042B1930>\n"
     ]
    }
   ],
   "source": [
    "class Circle(object):\n",
    "    \n",
    "    def __init__(self, radius):\n",
    "        self.__radius = radius\n",
    "        \n",
    "c = Circle(3)\n",
    "print(c)"
   ]
  },
  {
   "cell_type": "code",
   "execution_count": 43,
   "metadata": {},
   "outputs": [
    {
     "name": "stdout",
     "output_type": "stream",
     "text": [
      "This is a Circle class which takes radius as an argument\n"
     ]
    }
   ],
   "source": [
    "# If you need description of the class the use __str__()\n",
    "class Circle(object):\n",
    "    \n",
    "    def __init__(self, radius):\n",
    "        self.__radius = radius\n",
    "        \n",
    "    def __str__(self):\n",
    "        return \"This is a Circle class which takes radius as an argument\"\n",
    "        \n",
    "c = Circle(3)\n",
    "print(c)"
   ]
  },
  {
   "cell_type": "code",
   "execution_count": 41,
   "metadata": {},
   "outputs": [
    {
     "name": "stdout",
     "output_type": "stream",
     "text": [
      "This is a Circle Class\n"
     ]
    }
   ],
   "source": [
    "#Predict the output:\n",
    "class Circle(object):\n",
    "    def __str__(self):\n",
    "        return \"This is a Circle Class\"\n",
    "    \n",
    "c = Circle()\n",
    "print(c)"
   ]
  },
  {
   "cell_type": "code",
   "execution_count": null,
   "metadata": {},
   "outputs": [],
   "source": []
  },
  {
   "cell_type": "code",
   "execution_count": null,
   "metadata": {},
   "outputs": [],
   "source": []
  },
  {
   "cell_type": "markdown",
   "metadata": {},
   "source": [
    "### 8.Multiple Inheritance\n",
    "* Multiple Inheritance: Two or more base classes inheriting their properties to a child class.\n",
    "\n",
    "Ex: Mother, Father (Base classes) and their child (child class)."
   ]
  },
  {
   "cell_type": "code",
   "execution_count": 45,
   "metadata": {},
   "outputs": [
    {
     "name": "stdout",
     "output_type": "stream",
     "text": [
      "Name of child is  Yash\n",
      "Print of Father called\n"
     ]
    }
   ],
   "source": [
    "class Mother:\n",
    "    \n",
    "    def print(self):\n",
    "        \n",
    "        print('Print of Mother called')\n",
    "        \n",
    "class Father: \n",
    "    \n",
    "    def print(self):\n",
    "        \n",
    "        print(\"Print of Father called\")\n",
    "    \n",
    "class Child(Father, Mother):     \n",
    "    \n",
    "    def __init__(self, name):\n",
    "        self.name = name\n",
    "        \n",
    "    def printChild(self):\n",
    "        print(\"Name of child is \", self.name)\n",
    "        \n",
    "c = Child(\"Yash\")\n",
    "c.printChild()\n",
    "c.print()"
   ]
  },
  {
   "cell_type": "code",
   "execution_count": 46,
   "metadata": {},
   "outputs": [
    {
     "name": "stdout",
     "output_type": "stream",
     "text": [
      "Name of child is  yash\n",
      "Print of Mother called\n"
     ]
    }
   ],
   "source": [
    "class Mother:\n",
    "    \n",
    "    def print(self):\n",
    "        \n",
    "        print('Print of Mother called')\n",
    "        \n",
    "class Father: \n",
    "    \n",
    "    def print(self):\n",
    "        \n",
    "        print(\"Print of Father called\")\n",
    "    \n",
    "class Child(Mother, Father):     \n",
    "    \n",
    "    def __init__(self, name):\n",
    "        self.name = name\n",
    "        \n",
    "    def printChild(self):\n",
    "        print(\"Name of child is \", self.name)\n",
    "        \n",
    "c = Child(\"yash\")\n",
    "c.printChild()\n",
    "c.print()"
   ]
  },
  {
   "cell_type": "markdown",
   "metadata": {},
   "source": [
    "### Note :In the above examples, you can see the output depends on the order of inheritance"
   ]
  },
  {
   "cell_type": "code",
   "execution_count": 47,
   "metadata": {},
   "outputs": [
    {
     "name": "stdout",
     "output_type": "stream",
     "text": [
      "Name of child is  Sunina\n"
     ]
    }
   ],
   "source": [
    "class Mother:\n",
    "    \n",
    "    def __init__(self):\n",
    "        self.name = \"Sunina\"\n",
    "    \n",
    "    def print(self):\n",
    "        print('Print of Mother called')\n",
    "        \n",
    "class Father: \n",
    "    \n",
    "    def __init__(self):\n",
    "        self.name = \"Yash\"\n",
    "    \n",
    "    def print(self):\n",
    "        print(\"Print of Father called\")\n",
    "    \n",
    "class Child(Mother, Father):      #Order of inheritance ....\n",
    "     \n",
    "    def __init__(self):\n",
    "        super().__init__()\n",
    "        \n",
    "    def printChild(self):\n",
    "        print(\"Name of child is \", self.name)\n",
    "        \n",
    "c = Child()\n",
    "c.printChild()"
   ]
  },
  {
   "cell_type": "code",
   "execution_count": 48,
   "metadata": {},
   "outputs": [
    {
     "name": "stdout",
     "output_type": "stream",
     "text": [
      "init of B called\n"
     ]
    }
   ],
   "source": [
    "class A:\n",
    "\n",
    "    def __init__(self):\n",
    "        print(\"init of A called\")\n",
    "class B:\n",
    "    def __init__(self):\n",
    "        print(\"init of B called\")\n",
    "\n",
    "class C(B,A):\n",
    "    def __init__(self):\n",
    "        super().__init__()\n",
    "\n",
    "c = C()"
   ]
  },
  {
   "cell_type": "code",
   "execution_count": null,
   "metadata": {},
   "outputs": [],
   "source": []
  },
  {
   "cell_type": "markdown",
   "metadata": {},
   "source": [
    "### 9.Method Resolution Order"
   ]
  },
  {
   "cell_type": "code",
   "execution_count": 49,
   "metadata": {},
   "outputs": [
    {
     "name": "stdout",
     "output_type": "stream",
     "text": [
      "Name of child is  Usmani\n",
      "[<class '__main__.Child'>, <class '__main__.Mother'>, <class '__main__.Father'>, <class 'object'>]\n"
     ]
    }
   ],
   "source": [
    "class Mother:\n",
    "    \n",
    "    def __init__(self):\n",
    "        self.name = \"Usmani\"\n",
    "    \n",
    "    def print(self):\n",
    "        print('Print of Mother called')\n",
    "        \n",
    "class Father: \n",
    "    \n",
    "    def __init__(self):\n",
    "        self.name = \"Abdulla\"\n",
    "    \n",
    "    def print(self):\n",
    "        print(\"Print of Father called\")\n",
    "    \n",
    "class Child(Mother, Father):     \n",
    "    \n",
    "    def __init__(self):\n",
    "        super().__init__()\n",
    "        \n",
    "    def print(self):\n",
    "        print(\"Name of child is \", self.name)\n",
    "        \n",
    "c = Child()\n",
    "c.print()\n",
    "print(Child.mro())"
   ]
  },
  {
   "cell_type": "code",
   "execution_count": 50,
   "metadata": {},
   "outputs": [
    {
     "name": "stdout",
     "output_type": "stream",
     "text": [
      "Name of child is  Abdulla\n",
      "[<class '__main__.Child'>, <class '__main__.Mother'>, <class '__main__.Father'>, <class 'object'>]\n"
     ]
    }
   ],
   "source": [
    "class Mother:\n",
    "    \n",
    "    def __init__(self):\n",
    "        self.name = \"Usmani\"\n",
    "        super().__init__()    # name of child is changed to Abdulla\n",
    "    \n",
    "    def print(self):\n",
    "        print('Print of Mother called')\n",
    "        \n",
    "class Father: \n",
    "    \n",
    "    def __init__(self):\n",
    "        self.name = \"Abdulla\"\n",
    "        super().__init__()   # It will go to object and nothing will happen\n",
    "    \n",
    "    def print(self):\n",
    "        print(\"Print of Father called\")\n",
    "    \n",
    "class Child(Mother, Father):     \n",
    "    \n",
    "    def __init__(self):\n",
    "        super().__init__()\n",
    "        \n",
    "    def print(self):\n",
    "        print(\"Name of child is \", self.name)\n",
    "        \n",
    "c = Child()\n",
    "c.print()\n",
    "print(Child.mro())"
   ]
  },
  {
   "cell_type": "markdown",
   "metadata": {},
   "source": [
    "### 10.Operator Overloading "
   ]
  },
  {
   "cell_type": "markdown",
   "metadata": {},
   "source": [
    "p = point(1,2) p1 = point(3,4)\n",
    "\n",
    "point <-- (4,6)\n",
    "\n",
    "p2 = p + p1"
   ]
  },
  {
   "cell_type": "code",
   "execution_count": 51,
   "metadata": {},
   "outputs": [
    {
     "name": "stdout",
     "output_type": "stream",
     "text": [
      "This point is at (5,7)\n"
     ]
    }
   ],
   "source": [
    "class Point:\n",
    "    \n",
    "    def __init__(self, x, y):\n",
    "        self.__x = x\n",
    "        self.__y = y\n",
    "        \n",
    "    def __str__(self):\n",
    "        return \"This point is at (\" + str(self.__x)+\",\" + str(self.__y) + \")\"\n",
    "    \n",
    "    def __add__(self, point_object):\n",
    "        return Point(self.__x + point_object.__x, self.__y + point_object.__y)\n",
    "    \n",
    "p1 = Point(1,2)\n",
    "p2 = Point(4,5)\n",
    "p3 = p1 + p2\n",
    "print(p3)"
   ]
  },
  {
   "cell_type": "code",
   "execution_count": 52,
   "metadata": {},
   "outputs": [
    {
     "name": "stdout",
     "output_type": "stream",
     "text": [
      "This point is at (5,7)\n",
      "True\n",
      "False\n"
     ]
    }
   ],
   "source": [
    "import math\n",
    "class Point:\n",
    "    \n",
    "    def __init__(self, x, y):\n",
    "        self.__x = x\n",
    "        self.__y = y\n",
    "        \n",
    "    def __str__(self):\n",
    "        return \"This point is at (\" + str(self.__x)+\",\" + str(self.__y) + \")\"\n",
    "    \n",
    "    def __add__(self, point_object):\n",
    "        return Point(self.__x + point_object.__x, self.__y + point_object.__y)\n",
    "    \n",
    "    def __lt__(self, point_object):\n",
    "        return math.sqrt(self.__x**2 + self.__y**2) < math.sqrt(point_object.__x**2 + point_object.__y**2)\n",
    "p1 = Point(1,2)\n",
    "p2 = Point(4,5)\n",
    "p3 = p1 + p2\n",
    "print(p3)\n",
    "p4 = p1 < p2\n",
    "print(p4)\n",
    "print(p2 < p1)\n"
   ]
  },
  {
   "cell_type": "code",
   "execution_count": null,
   "metadata": {},
   "outputs": [],
   "source": []
  }
 ],
 "metadata": {
  "kernelspec": {
   "display_name": "Python 3",
   "language": "python",
   "name": "python3"
  },
  "language_info": {
   "codemirror_mode": {
    "name": "ipython",
    "version": 3
   },
   "file_extension": ".py",
   "mimetype": "text/x-python",
   "name": "python",
   "nbconvert_exporter": "python",
   "pygments_lexer": "ipython3",
   "version": "3.6.7"
  }
 },
 "nbformat": 4,
 "nbformat_minor": 4
}
